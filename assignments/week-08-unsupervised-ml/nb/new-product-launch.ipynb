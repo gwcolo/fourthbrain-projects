{
 "cells": [
  {
   "cell_type": "markdown",
   "id": "971748d6",
   "metadata": {},
   "source": [
    "<p align = \"center\" draggable=”false” ><img src=\"https://user-images.githubusercontent.com/37101144/161836199-fdb0219d-0361-4988-bf26-48b0fad160a3.png\" \n",
    "     width=\"200px\"\n",
    "     height=\"auto\"/>\n",
    "</p>"
   ]
  },
  {
   "cell_type": "markdown",
   "id": "82694370",
   "metadata": {},
   "source": [
    "# 🛍️ Launch New Products"
   ]
  },
  {
   "cell_type": "markdown",
   "id": "e9dde4c6",
   "metadata": {},
   "source": [
    "Today you are a machine learning engineer at the Department of New Products at Target Cosmetics! \n",
    "\n",
    "We will start with a small dataset on interactions between users and current products from the past and try to discover substructure, if there's any, by applying some **unsupervised learning** methods. \n",
    "\n",
    "Then we will leverage the small amount of labeled data (current products) in combination with a larger amount of unlabeled data (new products to launch) to make estimations as to which products will sell more. "
   ]
  },
  {
   "cell_type": "markdown",
   "id": "653e62c8",
   "metadata": {},
   "source": [
    "## 📚 Learning Objectives"
   ]
  },
  {
   "cell_type": "markdown",
   "id": "10907851",
   "metadata": {},
   "source": [
    "By the end of this session, you will be able to:\n",
    "\n",
    "- apply dimensionality reduction techniques to reduce features to a lower dimensional space\n",
    "- perform customer segmentation, determine optional number of clusters, and understand assumptions for used algorithm\n",
    "- understand what semi-supervised learning is and leverage it to improve performance of supervised learning"
   ]
  },
  {
   "cell_type": "markdown",
   "id": "2869071e",
   "metadata": {},
   "source": [
    "## Task 1. Dimensionality Reduction"
   ]
  },
  {
   "cell_type": "markdown",
   "id": "dec7505e",
   "metadata": {},
   "source": [
    "1. Load in the data. \n",
    "    \n",
    "    Import `pandas` as `pd` and use `pd.read_csv()` to read in `past.csv.gz` in the `dat` folder, saving it as `past`. \n",
    "    \n",
    "    Data in `past.csv.gz` was propcessed; e.g., features indicating time of day, day of week, month, and year of the purchase have been converted to one-hot representations of these categories. "
   ]
  },
  {
   "cell_type": "code",
   "execution_count": 1,
   "id": "a12ae9c1",
   "metadata": {},
   "outputs": [],
   "source": [
    "import numpy as np      \n",
    "import pandas as pd     \n",
    "\n",
    "import matplotlib.pyplot as plt  \n",
    "%matplotlib inline\n",
    "\n",
    "from sklearn.cluster import KMeans\n",
    "from sklearn.decomposition import PCA\n",
    "from sklearn.metrics import classification_report\n",
    "from sklearn.model_selection import train_test_split\n",
    "from sklearn.linear_model import LogisticRegression\n",
    "from sklearn.pipeline import make_pipeline\n",
    "from sklearn.preprocessing import StandardScaler\n",
    "\n",
    "from pandas_profiling import ProfileReport\n",
    "\n",
    "import datetime"
   ]
  },
  {
   "cell_type": "code",
   "execution_count": 2,
   "id": "d63ee4f8",
   "metadata": {},
   "outputs": [
    {
     "name": "stdout",
     "output_type": "stream",
     "text": [
      "Index(['product_id', 'user_id', 'NumOfEventsInJourney', 'NumSessions',\n",
      "       'interactionTime', 'maxPrice', 'minPrice', 'NumCart', 'NumView',\n",
      "       'NumRemove', 'InsessionCart', 'InsessionView', 'InsessionRemove',\n",
      "       'Weekend', 'Fr', 'Mon', 'Sat', 'Sun', 'Thu', 'Tue', 'Wed', '2019',\n",
      "       '2020', 'Jan', 'Feb', 'Oct', 'Nov', 'Dec', 'Afternoon', 'Dawn',\n",
      "       'EarlyMorning', 'Evening', 'Morning', 'Night', 'Purchased?', 'Noon',\n",
      "       'Category'],\n",
      "      dtype='object')\n"
     ]
    },
    {
     "data": {
      "text/html": [
       "<div>\n",
       "<style scoped>\n",
       "    .dataframe tbody tr th:only-of-type {\n",
       "        vertical-align: middle;\n",
       "    }\n",
       "\n",
       "    .dataframe tbody tr th {\n",
       "        vertical-align: top;\n",
       "    }\n",
       "\n",
       "    .dataframe thead th {\n",
       "        text-align: right;\n",
       "    }\n",
       "</style>\n",
       "<table border=\"1\" class=\"dataframe\">\n",
       "  <thead>\n",
       "    <tr style=\"text-align: right;\">\n",
       "      <th></th>\n",
       "      <th>product_id</th>\n",
       "      <th>user_id</th>\n",
       "      <th>NumOfEventsInJourney</th>\n",
       "      <th>NumSessions</th>\n",
       "      <th>interactionTime</th>\n",
       "      <th>maxPrice</th>\n",
       "      <th>minPrice</th>\n",
       "      <th>NumCart</th>\n",
       "      <th>NumView</th>\n",
       "      <th>NumRemove</th>\n",
       "      <th>...</th>\n",
       "      <th>Dec</th>\n",
       "      <th>Afternoon</th>\n",
       "      <th>Dawn</th>\n",
       "      <th>EarlyMorning</th>\n",
       "      <th>Evening</th>\n",
       "      <th>Morning</th>\n",
       "      <th>Night</th>\n",
       "      <th>Purchased?</th>\n",
       "      <th>Noon</th>\n",
       "      <th>Category</th>\n",
       "    </tr>\n",
       "  </thead>\n",
       "  <tbody>\n",
       "    <tr>\n",
       "      <th>0</th>\n",
       "      <td>5866936</td>\n",
       "      <td>5.618978e+08</td>\n",
       "      <td>1.333333</td>\n",
       "      <td>1.333333</td>\n",
       "      <td>5550.000000</td>\n",
       "      <td>15.840000</td>\n",
       "      <td>15.840000</td>\n",
       "      <td>0.000000</td>\n",
       "      <td>1.333333</td>\n",
       "      <td>0.000000</td>\n",
       "      <td>...</td>\n",
       "      <td>0.000000</td>\n",
       "      <td>0.000000</td>\n",
       "      <td>0.000000</td>\n",
       "      <td>0.666667</td>\n",
       "      <td>0.333333</td>\n",
       "      <td>0.000000</td>\n",
       "      <td>0.000000</td>\n",
       "      <td>0</td>\n",
       "      <td>0.000000</td>\n",
       "      <td>1.000000</td>\n",
       "    </tr>\n",
       "    <tr>\n",
       "      <th>1</th>\n",
       "      <td>5647110</td>\n",
       "      <td>5.326529e+08</td>\n",
       "      <td>2.250000</td>\n",
       "      <td>1.500000</td>\n",
       "      <td>27556.500000</td>\n",
       "      <td>5.800000</td>\n",
       "      <td>5.565000</td>\n",
       "      <td>1.250000</td>\n",
       "      <td>0.250000</td>\n",
       "      <td>0.250000</td>\n",
       "      <td>...</td>\n",
       "      <td>0.250000</td>\n",
       "      <td>0.750000</td>\n",
       "      <td>0.000000</td>\n",
       "      <td>0.000000</td>\n",
       "      <td>0.250000</td>\n",
       "      <td>0.000000</td>\n",
       "      <td>0.000000</td>\n",
       "      <td>0</td>\n",
       "      <td>0.000000</td>\n",
       "      <td>1.000000</td>\n",
       "    </tr>\n",
       "    <tr>\n",
       "      <th>2</th>\n",
       "      <td>5790472</td>\n",
       "      <td>4.578109e+08</td>\n",
       "      <td>1.000000</td>\n",
       "      <td>1.000000</td>\n",
       "      <td>0.000000</td>\n",
       "      <td>6.272500</td>\n",
       "      <td>6.272500</td>\n",
       "      <td>0.250000</td>\n",
       "      <td>0.750000</td>\n",
       "      <td>0.000000</td>\n",
       "      <td>...</td>\n",
       "      <td>0.000000</td>\n",
       "      <td>0.000000</td>\n",
       "      <td>0.000000</td>\n",
       "      <td>0.000000</td>\n",
       "      <td>0.750000</td>\n",
       "      <td>0.250000</td>\n",
       "      <td>0.000000</td>\n",
       "      <td>0</td>\n",
       "      <td>0.000000</td>\n",
       "      <td>1.000000</td>\n",
       "    </tr>\n",
       "    <tr>\n",
       "      <th>3</th>\n",
       "      <td>5811598</td>\n",
       "      <td>4.612641e+08</td>\n",
       "      <td>1.500000</td>\n",
       "      <td>1.500000</td>\n",
       "      <td>131532.500000</td>\n",
       "      <td>5.560000</td>\n",
       "      <td>5.560000</td>\n",
       "      <td>0.250000</td>\n",
       "      <td>1.000000</td>\n",
       "      <td>0.250000</td>\n",
       "      <td>...</td>\n",
       "      <td>0.250000</td>\n",
       "      <td>0.000000</td>\n",
       "      <td>0.000000</td>\n",
       "      <td>0.000000</td>\n",
       "      <td>0.500000</td>\n",
       "      <td>0.000000</td>\n",
       "      <td>0.250000</td>\n",
       "      <td>0</td>\n",
       "      <td>0.250000</td>\n",
       "      <td>1.000000</td>\n",
       "    </tr>\n",
       "    <tr>\n",
       "      <th>4</th>\n",
       "      <td>5846363</td>\n",
       "      <td>5.157993e+08</td>\n",
       "      <td>1.875000</td>\n",
       "      <td>1.375000</td>\n",
       "      <td>11055.875000</td>\n",
       "      <td>4.086250</td>\n",
       "      <td>4.086250</td>\n",
       "      <td>0.500000</td>\n",
       "      <td>1.000000</td>\n",
       "      <td>0.250000</td>\n",
       "      <td>...</td>\n",
       "      <td>0.250000</td>\n",
       "      <td>0.375000</td>\n",
       "      <td>0.000000</td>\n",
       "      <td>0.125000</td>\n",
       "      <td>0.250000</td>\n",
       "      <td>0.250000</td>\n",
       "      <td>0.000000</td>\n",
       "      <td>1</td>\n",
       "      <td>0.000000</td>\n",
       "      <td>1.000000</td>\n",
       "    </tr>\n",
       "    <tr>\n",
       "      <th>...</th>\n",
       "      <td>...</td>\n",
       "      <td>...</td>\n",
       "      <td>...</td>\n",
       "      <td>...</td>\n",
       "      <td>...</td>\n",
       "      <td>...</td>\n",
       "      <td>...</td>\n",
       "      <td>...</td>\n",
       "      <td>...</td>\n",
       "      <td>...</td>\n",
       "      <td>...</td>\n",
       "      <td>...</td>\n",
       "      <td>...</td>\n",
       "      <td>...</td>\n",
       "      <td>...</td>\n",
       "      <td>...</td>\n",
       "      <td>...</td>\n",
       "      <td>...</td>\n",
       "      <td>...</td>\n",
       "      <td>...</td>\n",
       "      <td>...</td>\n",
       "    </tr>\n",
       "    <tr>\n",
       "      <th>4995</th>\n",
       "      <td>5610082</td>\n",
       "      <td>5.853313e+08</td>\n",
       "      <td>1.500000</td>\n",
       "      <td>1.000000</td>\n",
       "      <td>77.000000</td>\n",
       "      <td>0.790000</td>\n",
       "      <td>0.790000</td>\n",
       "      <td>0.500000</td>\n",
       "      <td>0.500000</td>\n",
       "      <td>0.000000</td>\n",
       "      <td>...</td>\n",
       "      <td>0.000000</td>\n",
       "      <td>0.500000</td>\n",
       "      <td>0.000000</td>\n",
       "      <td>0.500000</td>\n",
       "      <td>0.000000</td>\n",
       "      <td>0.000000</td>\n",
       "      <td>0.000000</td>\n",
       "      <td>0</td>\n",
       "      <td>0.000000</td>\n",
       "      <td>1.000000</td>\n",
       "    </tr>\n",
       "    <tr>\n",
       "      <th>4996</th>\n",
       "      <td>5770265</td>\n",
       "      <td>5.124349e+08</td>\n",
       "      <td>1.954545</td>\n",
       "      <td>1.363636</td>\n",
       "      <td>348649.090909</td>\n",
       "      <td>2.972727</td>\n",
       "      <td>2.972727</td>\n",
       "      <td>0.636364</td>\n",
       "      <td>0.681818</td>\n",
       "      <td>0.590909</td>\n",
       "      <td>...</td>\n",
       "      <td>0.272727</td>\n",
       "      <td>0.136364</td>\n",
       "      <td>0.045455</td>\n",
       "      <td>0.181818</td>\n",
       "      <td>0.409091</td>\n",
       "      <td>0.045455</td>\n",
       "      <td>0.090909</td>\n",
       "      <td>1</td>\n",
       "      <td>0.090909</td>\n",
       "      <td>1.045455</td>\n",
       "    </tr>\n",
       "    <tr>\n",
       "      <th>4997</th>\n",
       "      <td>5923106</td>\n",
       "      <td>4.427739e+08</td>\n",
       "      <td>1.000000</td>\n",
       "      <td>1.000000</td>\n",
       "      <td>0.000000</td>\n",
       "      <td>0.000000</td>\n",
       "      <td>0.000000</td>\n",
       "      <td>0.000000</td>\n",
       "      <td>1.000000</td>\n",
       "      <td>0.000000</td>\n",
       "      <td>...</td>\n",
       "      <td>0.000000</td>\n",
       "      <td>1.000000</td>\n",
       "      <td>0.000000</td>\n",
       "      <td>0.000000</td>\n",
       "      <td>0.000000</td>\n",
       "      <td>0.000000</td>\n",
       "      <td>0.000000</td>\n",
       "      <td>0</td>\n",
       "      <td>0.000000</td>\n",
       "      <td>1.000000</td>\n",
       "    </tr>\n",
       "    <tr>\n",
       "      <th>4998</th>\n",
       "      <td>5889691</td>\n",
       "      <td>6.104029e+08</td>\n",
       "      <td>2.000000</td>\n",
       "      <td>1.000000</td>\n",
       "      <td>766.000000</td>\n",
       "      <td>8.250000</td>\n",
       "      <td>8.250000</td>\n",
       "      <td>1.000000</td>\n",
       "      <td>0.000000</td>\n",
       "      <td>0.000000</td>\n",
       "      <td>...</td>\n",
       "      <td>0.000000</td>\n",
       "      <td>1.000000</td>\n",
       "      <td>0.000000</td>\n",
       "      <td>0.000000</td>\n",
       "      <td>0.000000</td>\n",
       "      <td>0.000000</td>\n",
       "      <td>0.000000</td>\n",
       "      <td>0</td>\n",
       "      <td>0.000000</td>\n",
       "      <td>1.000000</td>\n",
       "    </tr>\n",
       "    <tr>\n",
       "      <th>4999</th>\n",
       "      <td>5853603</td>\n",
       "      <td>4.144132e+08</td>\n",
       "      <td>1.333333</td>\n",
       "      <td>1.333333</td>\n",
       "      <td>23389.000000</td>\n",
       "      <td>5.426667</td>\n",
       "      <td>5.426667</td>\n",
       "      <td>0.333333</td>\n",
       "      <td>0.666667</td>\n",
       "      <td>0.333333</td>\n",
       "      <td>...</td>\n",
       "      <td>0.000000</td>\n",
       "      <td>0.000000</td>\n",
       "      <td>0.000000</td>\n",
       "      <td>0.333333</td>\n",
       "      <td>0.000000</td>\n",
       "      <td>0.333333</td>\n",
       "      <td>0.000000</td>\n",
       "      <td>0</td>\n",
       "      <td>0.333333</td>\n",
       "      <td>1.000000</td>\n",
       "    </tr>\n",
       "  </tbody>\n",
       "</table>\n",
       "<p>5000 rows × 37 columns</p>\n",
       "</div>"
      ],
      "text/plain": [
       "      product_id       user_id  NumOfEventsInJourney  NumSessions  \\\n",
       "0        5866936  5.618978e+08              1.333333     1.333333   \n",
       "1        5647110  5.326529e+08              2.250000     1.500000   \n",
       "2        5790472  4.578109e+08              1.000000     1.000000   \n",
       "3        5811598  4.612641e+08              1.500000     1.500000   \n",
       "4        5846363  5.157993e+08              1.875000     1.375000   \n",
       "...          ...           ...                   ...          ...   \n",
       "4995     5610082  5.853313e+08              1.500000     1.000000   \n",
       "4996     5770265  5.124349e+08              1.954545     1.363636   \n",
       "4997     5923106  4.427739e+08              1.000000     1.000000   \n",
       "4998     5889691  6.104029e+08              2.000000     1.000000   \n",
       "4999     5853603  4.144132e+08              1.333333     1.333333   \n",
       "\n",
       "      interactionTime   maxPrice   minPrice   NumCart   NumView  NumRemove  \\\n",
       "0         5550.000000  15.840000  15.840000  0.000000  1.333333   0.000000   \n",
       "1        27556.500000   5.800000   5.565000  1.250000  0.250000   0.250000   \n",
       "2            0.000000   6.272500   6.272500  0.250000  0.750000   0.000000   \n",
       "3       131532.500000   5.560000   5.560000  0.250000  1.000000   0.250000   \n",
       "4        11055.875000   4.086250   4.086250  0.500000  1.000000   0.250000   \n",
       "...               ...        ...        ...       ...       ...        ...   \n",
       "4995        77.000000   0.790000   0.790000  0.500000  0.500000   0.000000   \n",
       "4996    348649.090909   2.972727   2.972727  0.636364  0.681818   0.590909   \n",
       "4997         0.000000   0.000000   0.000000  0.000000  1.000000   0.000000   \n",
       "4998       766.000000   8.250000   8.250000  1.000000  0.000000   0.000000   \n",
       "4999     23389.000000   5.426667   5.426667  0.333333  0.666667   0.333333   \n",
       "\n",
       "      ...       Dec  Afternoon      Dawn  EarlyMorning   Evening   Morning  \\\n",
       "0     ...  0.000000   0.000000  0.000000      0.666667  0.333333  0.000000   \n",
       "1     ...  0.250000   0.750000  0.000000      0.000000  0.250000  0.000000   \n",
       "2     ...  0.000000   0.000000  0.000000      0.000000  0.750000  0.250000   \n",
       "3     ...  0.250000   0.000000  0.000000      0.000000  0.500000  0.000000   \n",
       "4     ...  0.250000   0.375000  0.000000      0.125000  0.250000  0.250000   \n",
       "...   ...       ...        ...       ...           ...       ...       ...   \n",
       "4995  ...  0.000000   0.500000  0.000000      0.500000  0.000000  0.000000   \n",
       "4996  ...  0.272727   0.136364  0.045455      0.181818  0.409091  0.045455   \n",
       "4997  ...  0.000000   1.000000  0.000000      0.000000  0.000000  0.000000   \n",
       "4998  ...  0.000000   1.000000  0.000000      0.000000  0.000000  0.000000   \n",
       "4999  ...  0.000000   0.000000  0.000000      0.333333  0.000000  0.333333   \n",
       "\n",
       "         Night  Purchased?      Noon  Category  \n",
       "0     0.000000           0  0.000000  1.000000  \n",
       "1     0.000000           0  0.000000  1.000000  \n",
       "2     0.000000           0  0.000000  1.000000  \n",
       "3     0.250000           0  0.250000  1.000000  \n",
       "4     0.000000           1  0.000000  1.000000  \n",
       "...        ...         ...       ...       ...  \n",
       "4995  0.000000           0  0.000000  1.000000  \n",
       "4996  0.090909           1  0.090909  1.045455  \n",
       "4997  0.000000           0  0.000000  1.000000  \n",
       "4998  0.000000           0  0.000000  1.000000  \n",
       "4999  0.000000           0  0.333333  1.000000  \n",
       "\n",
       "[5000 rows x 37 columns]"
      ]
     },
     "metadata": {},
     "output_type": "display_data"
    }
   ],
   "source": [
    "# YOUR CODE HERE\n",
    "\n",
    "import pandas as pd\n",
    "df_past = pd.read_csv( '../dat/past.csv.gz' )\n",
    "print(df_past.columns)\n",
    "display(df_past)"
   ]
  },
  {
   "cell_type": "code",
   "execution_count": 3,
   "id": "bae7d290",
   "metadata": {},
   "outputs": [
    {
     "data": {
      "text/plain": [
       "Index(['product_id', 'user_id', 'NumOfEventsInJourney', 'NumSessions',\n",
       "       'interactionTime', 'maxPrice', 'minPrice', 'NumCart', 'NumView',\n",
       "       'NumRemove', 'InsessionCart', 'InsessionView', 'InsessionRemove',\n",
       "       'Weekend', 'Fr', 'Mon', 'Sat', 'Sun', 'Thu', 'Tue', 'Wed', '2019',\n",
       "       '2020', 'Jan', 'Feb', 'Oct', 'Nov', 'Dec', 'Afternoon', 'Dawn',\n",
       "       'EarlyMorning', 'Evening', 'Morning', 'Night', 'Purchased?', 'Noon',\n",
       "       'Category'],\n",
       "      dtype='object')"
      ]
     },
     "execution_count": 3,
     "metadata": {},
     "output_type": "execute_result"
    }
   ],
   "source": [
    "df_past.columns"
   ]
  },
  {
   "cell_type": "code",
   "execution_count": 4,
   "id": "84b08444",
   "metadata": {},
   "outputs": [
    {
     "name": "stdout",
     "output_type": "stream",
     "text": [
      "\n",
      "Pandas Profiling Report\n",
      "\n",
      "Started 2023-02-10 19:47:27.205445\n"
     ]
    },
    {
     "data": {
      "application/vnd.jupyter.widget-view+json": {
       "model_id": "b66f134d527a4c37a188933a000f5b8f",
       "version_major": 2,
       "version_minor": 0
      },
      "text/plain": [
       "Summarize dataset:   0%|          | 0/5 [00:00<?, ?it/s]"
      ]
     },
     "metadata": {},
     "output_type": "display_data"
    },
    {
     "name": "stderr",
     "output_type": "stream",
     "text": [
      "/Users/wildfell/miniconda3/envs/sentiment_analysis/lib/python3.8/site-packages/multimethod/__init__.py:315: FutureWarning: In a future version, `df.iloc[:, i] = newvals` will attempt to set the values inplace instead of always setting a new array. To retain the old behavior, use either `df[df.columns[i]] = newvals` or, if columns are non-unique, `df.isetitem(i, newvals)`\n",
      "  return func(*args, **kwargs)\n"
     ]
    },
    {
     "data": {
      "application/vnd.jupyter.widget-view+json": {
       "model_id": "c3766161f6bb49b78fe7bedb2442f340",
       "version_major": 2,
       "version_minor": 0
      },
      "text/plain": [
       "Generate report structure:   0%|          | 0/1 [00:00<?, ?it/s]"
      ]
     },
     "metadata": {},
     "output_type": "display_data"
    },
    {
     "data": {
      "application/vnd.jupyter.widget-view+json": {
       "model_id": "29096f70bd27430e9f20f385efb40905",
       "version_major": 2,
       "version_minor": 0
      },
      "text/plain": [
       "Render widgets:   0%|          | 0/1 [00:00<?, ?it/s]"
      ]
     },
     "metadata": {},
     "output_type": "display_data"
    },
    {
     "data": {
      "application/vnd.jupyter.widget-view+json": {
       "model_id": "d4e073b7b67145c3bd043ba6a0b4aa2f",
       "version_major": 2,
       "version_minor": 0
      },
      "text/plain": [
       "VBox(children=(Tab(children=(Tab(children=(GridBox(children=(VBox(children=(GridspecLayout(children=(HTML(valu…"
      ]
     },
     "metadata": {},
     "output_type": "display_data"
    },
    {
     "name": "stdout",
     "output_type": "stream",
     "text": [
      "Ended   2023-02-10 19:48:48.732675\n"
     ]
    }
   ],
   "source": [
    "\n",
    "'''\n",
    "Pandas Profiling Report\n",
    " - Run a subset of the column to avoid the profiler getting overwhelmed\n",
    " - Takes < 2minutes when dropping columns\n",
    "'''\n",
    "\n",
    "print('\\nPandas Profiling Report\\n')\n",
    "print(f'Started {datetime.datetime.now()}')\n",
    "profile = ProfileReport( df_past.drop(columns=['Fr', 'Mon', 'Sat', 'Sun', 'Thu', 'Tue', 'Wed', '2019',\n",
    "                                                '2020', 'Jan', 'Feb', 'Oct', 'Nov', 'Dec', 'Afternoon', 'Dawn',\n",
    "                                                'EarlyMorning', 'Evening', 'Morning', 'Night', 'Noon']) \n",
    "                        , title=\"Pandas Profiling Report\")\n",
    "profile.to_widgets()\n",
    "print(f'Ended   {datetime.datetime.now()}')\n"
   ]
  },
  {
   "cell_type": "markdown",
   "id": "2c21ec92",
   "metadata": {},
   "source": [
    "<details>\n",
    "<summary> Expected output </summary>\n",
    "\n",
    "```\n",
    "Index(['product_id', 'user_id', 'NumOfEventsInJourney', 'NumSessions',\n",
    "       'interactionTime', 'maxPrice', 'minPrice', 'NumCart', 'NumView',\n",
    "       'NumRemove', 'InsessionCart', 'InsessionView', 'InsessionRemove',\n",
    "       'Weekend', 'Fr', 'Mon', 'Sat', 'Sun', 'Thu', 'Tue', 'Wed', '2019',\n",
    "       '2020', 'Jan', 'Feb', 'Oct', 'Nov', 'Dec', 'Afternoon', 'Dawn',\n",
    "       'EarlyMorning', 'Evening', 'Morning', 'Night', 'Purchased?', 'Noon',\n",
    "       'Category'],\n",
    "      dtype='object')\n",
    "```\n",
    "</details>"
   ]
  },
  {
   "cell_type": "markdown",
   "id": "fec9671a",
   "metadata": {},
   "source": [
    "2. What percentage of the interactions (rows) resulted in a purchase?\n",
    "\n",
    "    Do people mostly buy what they look at or do they do a lot of \"window shopping\" (shopping around without buying)?\n",
    "    \n",
    "    From the perspective of classification, is the data balanced?"
   ]
  },
  {
   "cell_type": "code",
   "execution_count": 5,
   "id": "4acf13b8",
   "metadata": {},
   "outputs": [
    {
     "name": "stdout",
     "output_type": "stream",
     "text": [
      "Percentage of purchases: 34.38%\n",
      "Unique Purchase Outcomes:\n",
      "[0 1]\n"
     ]
    }
   ],
   "source": [
    "# YOUR CODE HERE\n",
    "percentage_purchase = 100 * df_past['Purchased?'].sum() / len(df_past)\n",
    "print(f'Percentage of purchases: {percentage_purchase}%')\n",
    "\n",
    "print('Unique Purchase Outcomes:')\n",
    "print(df_past['Purchased?'].unique())"
   ]
  },
  {
   "cell_type": "code",
   "execution_count": 6,
   "id": "636041ca",
   "metadata": {},
   "outputs": [
    {
     "name": "stdout",
     "output_type": "stream",
     "text": [
      "Window Shoppers Definition: You look at items but you don't purchase.\n",
      "Total Data Size: 5000\n"
     ]
    },
    {
     "data": {
      "image/png": "[encoded data removed]",
      "text/plain": [
       "<Figure size 1000x500 with 8 Axes>"
      ]
     },
     "metadata": {},
     "output_type": "display_data"
    }
   ],
   "source": [
    "print('Window Shoppers Definition: You look at items but you don\\'t purchase.')\n",
    "print(f'Total Data Size: {len(df_past)}')\n",
    "\n",
    "cols_of_interst = ['NumOfEventsInJourney','NumSessions','NumCart','NumView',\n",
    "    'NumRemove','NumRemove', 'InsessionCart', 'InsessionView', 'InsessionRemove']\n",
    "plt.figure(figsize=(10,5))\n",
    "for col_i in cols_of_interst:\n",
    "    plt.subplot(3,3, cols_of_interst.index(col_i)+1 )\n",
    "    plt.hist( df_past[df_past['Purchased?'] ==0][col_i] , np.arange(-.5,10.5,1), rwidth = .7)\n",
    "    plt.title( col_i , fontsize=16)\n",
    "plt.tight_layout()"
   ]
  },
  {
   "attachments": {},
   "cell_type": "markdown",
   "id": "e07e91ce",
   "metadata": {},
   "source": [
    "### Do people mostly buy what they look at or do they do a lot of \"window shopping\" (shopping around without buying)?\n",
    "\n",
    "- About 1/3 of people purchase. So clearly they were not window shopping.\n",
    "- Looking at InsessionCart and Insession Remove (of the people who do not purchase) about half will still put atleast 1 item in thier cart. This means that they were probably not window shopping either.\n",
    "- That leaves about 1/3 of people who might have been window shopping.\n",
    "- However, many people who did not purchase only looked at one 1 (In session view.) So these people might not have been window shopping either, they just came for a sepcific purpose and balked at the intended item.\n",
    "\n",
    "### From the perspective of classification, is the data balanced?\n",
    "- Definitely not balanced. Customers are much less likely to buy vs not buy."
   ]
  },
  {
   "cell_type": "markdown",
   "id": "560d940e",
   "metadata": {},
   "source": [
    "3. Drop `product_id` and `user_id` and save the rest columns to a new `pd.DataFrame`:`X`; then pop the column `'Purchased?'` and save it to `y`."
   ]
  },
  {
   "cell_type": "code",
   "execution_count": 7,
   "id": "d72fed18",
   "metadata": {},
   "outputs": [],
   "source": [
    "# YOUR CODE HERE\n",
    "X = df_past.drop(columns=['product_id' , 'user_id']).copy(deep=True)\n",
    "# YOUR CODE HERE\n",
    "y = X.pop('Purchased?')"
   ]
  },
  {
   "cell_type": "code",
   "execution_count": 8,
   "id": "421c4481",
   "metadata": {},
   "outputs": [
    {
     "data": {
      "text/plain": [
       "0"
      ]
     },
     "execution_count": 8,
     "metadata": {},
     "output_type": "execute_result"
    }
   ],
   "source": [
    "# Quick check\n",
    "(y != df_past['Purchased?']).sum()"
   ]
  },
  {
   "cell_type": "code",
   "execution_count": 9,
   "id": "4703a193",
   "metadata": {},
   "outputs": [],
   "source": [
    "assert np.all(y== df_past['Purchased?'])"
   ]
  },
  {
   "cell_type": "code",
   "execution_count": 10,
   "id": "7c2b48ba",
   "metadata": {},
   "outputs": [],
   "source": [
    "assert X.shape == (5000, 34)\n",
    "assert y.shape == (5000,)"
   ]
  },
  {
   "cell_type": "markdown",
   "id": "8d487454",
   "metadata": {},
   "source": [
    "4. Apply [PCA (check documentation if unfamiliar)](https://scikit-learn.org/stable/modules/generated/sklearn.decomposition.PCA.html) to reduce the number of features down to **5**, save it to a numpy array named `X_reduced`. \n",
    "\n",
    "    Do you need to preprocess the data before performing PCA? Quick review [here: Importance of feature scaling](https://scikit-learn.org/stable/auto_examples/preprocessing/plot_scaling_importance.html).\n",
    "    \n",
    "    If time permits, read [Does mean centering or feature scaling affect a Principal Component Analysis?](https://sebastianraschka.com/faq/docs/pca-scaling.html) or [discussion 1](https://stats.stackexchange.com/questions/53/pca-on-correlation-or-covariance)."
   ]
  },
  {
   "cell_type": "code",
   "execution_count": 11,
   "id": "f8b72ea2",
   "metadata": {},
   "outputs": [
    {
     "data": {
      "text/plain": [
       "34"
      ]
     },
     "execution_count": 11,
     "metadata": {},
     "output_type": "execute_result"
    }
   ],
   "source": [
    "len(X.columns)"
   ]
  },
  {
   "cell_type": "code",
   "execution_count": 12,
   "id": "9f009e79",
   "metadata": {},
   "outputs": [
    {
     "name": "stdout",
     "output_type": "stream",
     "text": [
      "(5000, 34)\n",
      "(5000, 5)\n"
     ]
    },
    {
     "data": {
      "text/plain": [
       "array([[ 0.56666766, -1.68648068,  1.07802667, -0.05131363,  0.82715913],\n",
       "       [ 0.4560092 ,  0.01321793, -0.57933535,  0.06390001,  0.24030944],\n",
       "       [-0.16596919, -1.14865633, -0.51651899, -0.36468147, -0.85259612],\n",
       "       ...,\n",
       "       [ 2.13406084, -2.35354341, -1.00824603, -0.6131663 ,  0.88731158],\n",
       "       [ 2.47177667, -1.94547517, -0.99235091,  0.28970645,  1.32347909],\n",
       "       [-2.44376949,  0.34302232,  0.0866966 , -0.30490195,  0.84835297]])"
      ]
     },
     "metadata": {},
     "output_type": "display_data"
    }
   ],
   "source": [
    "from sklearn import preprocessing\n",
    "\n",
    "# scaling\n",
    "scaler = preprocessing.StandardScaler().fit(X)\n",
    "X_scaled = scaler.transform(X)\n",
    "print(X_scaled.shape)\n",
    "\n",
    "# 5 PCs: Fit_transform approach\n",
    "pca = PCA(n_components=5)\n",
    "X_reduced = pca.fit_transform(X_scaled) # equivalent to top two lines\n",
    "print(X_reduced.shape)\n",
    "display( X_reduced )\n",
    "\n",
    "assert X_reduced.shape == (5000, 5)"
   ]
  },
  {
   "cell_type": "code",
   "execution_count": 13,
   "id": "342935ae",
   "metadata": {},
   "outputs": [
    {
     "name": "stdout",
     "output_type": "stream",
     "text": [
      "(5000, 34)\n"
     ]
    },
    {
     "data": {
      "text/plain": [
       "array([[ 5.65629691e-01, -1.68704970e+00,  1.09843077e+00,\n",
       "         2.02686471e-02,  6.28522140e-01,  1.48482770e+00,\n",
       "         7.45755766e-01,  6.79796415e-01, -6.76482305e-01,\n",
       "        -1.01118596e+00, -6.66978546e-01,  7.53642693e-02,\n",
       "         1.67104770e+00, -9.90034754e-01, -2.05994299e-01,\n",
       "         2.44915829e-01, -3.58501837e-01, -4.63937986e-01,\n",
       "        -1.99079210e-01, -2.99202379e-01, -1.37008579e-01,\n",
       "        -4.05260919e-01,  4.35610106e-01,  2.41077422e-03,\n",
       "        -6.61462820e-02,  9.36713412e-02, -1.54573656e-02,\n",
       "        -1.49354269e-03,  1.09955821e-14, -1.04309572e-14,\n",
       "         4.60216781e-15, -3.49597878e-15,  1.84464202e-15,\n",
       "        -3.29025606e-16],\n",
       "       [ 4.51565956e-01,  1.28416802e-02, -5.92062774e-01,\n",
       "         1.24185956e-01,  7.13656544e-01, -1.27124763e+00,\n",
       "        -1.21087239e+00,  5.93577951e-01, -7.83735557e-01,\n",
       "         2.93822704e-01,  9.21974894e-01,  4.42309873e-01,\n",
       "        -6.42942144e-01, -7.75841846e-01,  9.73633239e-01,\n",
       "        -7.73316070e-01, -7.53773571e-01,  3.37569741e-01,\n",
       "        -1.92742912e-01, -7.87643888e-01,  4.46557574e-01,\n",
       "        -1.91495466e-01, -9.91569506e-01, -3.27172924e-01,\n",
       "         3.96104696e-01,  4.49336233e-01,  1.41319125e-01,\n",
       "         1.22015972e-02,  1.84538190e-15,  5.74818628e-15,\n",
       "        -6.91970812e-16,  1.28850743e-15, -1.36793740e-16,\n",
       "        -3.22223949e-16]])"
      ]
     },
     "metadata": {},
     "output_type": "display_data"
    }
   ],
   "source": [
    "# All PCs: Fit_transform approach\n",
    "pca = PCA()\n",
    "X_reduced = pca.fit_transform(X_scaled) # equivalent to top two lines\n",
    "print(X_reduced.shape)\n",
    "display( X_reduced[0:2,:] )\n",
    "\n",
    "# assert X_reduced.shape == (5000, 5)"
   ]
  },
  {
   "cell_type": "code",
   "execution_count": 14,
   "id": "ba36aaee",
   "metadata": {},
   "outputs": [
    {
     "data": {
      "text/plain": [
       "array([[ 0.56258828, -1.68759988,  1.08878709,  0.10605986,  0.47391325],\n",
       "       [ 0.45505517,  0.01007945, -0.56679061,  0.13891774,  0.81792714],\n",
       "       [-0.16193528, -1.14972922, -0.45442155, -0.2357312 , -1.29819608],\n",
       "       ...,\n",
       "       [ 2.13782643, -2.36897583, -0.98284263, -0.91044718,  1.32541324],\n",
       "       [ 2.47473434, -1.93742624, -0.98703441,  0.33900996,  2.35229407],\n",
       "       [-2.43413192,  0.35192413,  0.03165288, -0.46420903,  0.31611732]])"
      ]
     },
     "metadata": {},
     "output_type": "display_data"
    }
   ],
   "source": [
    "# Fit *then* transform approach\n",
    "pca = PCA(n_components=5)\n",
    "pca = pca.fit(X_scaled)\n",
    "X_reduced = pca.transform(X_scaled)\n",
    "display( X_reduced )\n"
   ]
  },
  {
   "cell_type": "markdown",
   "id": "ec23808b",
   "metadata": {},
   "source": [
    "5. Print out the percentage of variance explained by each of the selected components."
   ]
  },
  {
   "cell_type": "code",
   "execution_count": 15,
   "id": "bd43be7c",
   "metadata": {},
   "outputs": [
    {
     "name": "stdout",
     "output_type": "stream",
     "text": [
      "Explained Variance\n"
     ]
    },
    {
     "data": {
      "text/plain": [
       "array([3.39381061, 3.11770444, 2.15065911, 1.68768671, 1.42098516])"
      ]
     },
     "metadata": {},
     "output_type": "display_data"
    },
    {
     "name": "stdout",
     "output_type": "stream",
     "text": [
      "Explained Variance Proportion\n"
     ]
    },
    {
     "data": {
      "text/plain": [
       "array([0.10282218, 0.094457  , 0.06515845, 0.05113179, 0.04305154])"
      ]
     },
     "metadata": {},
     "output_type": "display_data"
    },
    {
     "name": "stdout",
     "output_type": "stream",
     "text": [
      "Sums to 0.35662096533107845\n"
     ]
    }
   ],
   "source": [
    "# YOUR CODE HERE\n",
    "print('Explained Variance')\n",
    "display(pca.explained_variance_)\n",
    "\n",
    "print('Explained Variance Proportion')\n",
    "display(pca.explained_variance_ratio_)\n",
    "\n",
    "print(f'Sums to {pca.explained_variance_ratio_.sum()}')"
   ]
  },
  {
   "cell_type": "markdown",
   "id": "fe1c7c62",
   "metadata": {},
   "source": [
    "6. Review code in functions `visualize_2pcs` and `visualize_3pcs` below and visualize first few principal components in 2D and 3D plots, respectively:"
   ]
  },
  {
   "cell_type": "code",
   "execution_count": 16,
   "id": "900548a2",
   "metadata": {},
   "outputs": [],
   "source": [
    "import matplotlib.pyplot as plt\n",
    "\n",
    "def visualize_2pcs(pcs, y):\n",
    "    fig, ax = plt.subplots()\n",
    "    plot = plt.scatter(pcs[:,0], pcs[:,1], c=y) \n",
    "    ax.legend(\n",
    "        handles=plot.legend_elements()[0], \n",
    "        labels=['No', 'Yes'])"
   ]
  },
  {
   "cell_type": "code",
   "execution_count": 26,
   "id": "907db47f",
   "metadata": {},
   "outputs": [],
   "source": [
    "def visualize_3pcs(pcs, y):\n",
    "    fig, ax = plt.subplots()\n",
    "    ax = fig.add_subplot(projection='3d')\n",
    "    plot = ax.scatter(pcs[:,0], pcs[:,1], pcs[:,2], c=y)\n",
    "    ax.legend(\n",
    "        handles=plot.legend_elements()[0], \n",
    "        labels=['No', 'Yes'])"
   ]
  },
  {
   "cell_type": "code",
   "execution_count": 27,
   "id": "01abccc3",
   "metadata": {},
   "outputs": [
    {
     "data": {
      "image/png": "[encoded data removed]",
      "text/plain": [
       "<Figure size 640x480 with 1 Axes>"
      ]
     },
     "metadata": {},
     "output_type": "display_data"
    },
    {
     "data": {
      "image/png": "[encoded data removed]",
      "text/plain": [
       "<Figure size 640x480 with 2 Axes>"
      ]
     },
     "metadata": {},
     "output_type": "display_data"
    }
   ],
   "source": [
    "# YOUR CODE HERE\n",
    "visualize_2pcs( X_reduced, y )\n",
    "\n",
    "# YOUR CODE HERE\n",
    "visualize_3pcs( X_reduced, y )\n"
   ]
  },
  {
   "cell_type": "markdown",
   "id": "b9f1e012",
   "metadata": {},
   "source": [
    "7. One way to assess the quality of the dimensionality reduction, when the groundtruth is available of course, is comparing the prediction performance using given features vs reduced (engineered) features.\n",
    "\n",
    "    Complete the wrapper function below that \n",
    "\n",
    "    - takes features, target, and a boolean parameter indicating whether to include standardization in the pipeline or not\n",
    "    - split the data into train (80%) and test (20%) datasets, set the random state for spliting at 0\n",
    "    - build a pipeline that \n",
    "\n",
    "        1) preprocessing data using standardization if the `standardize` is `True`; otherwise skip this step  \n",
    "\n",
    "        2) apply logistic regression ( are the labels balanced? )\n",
    "        \n",
    "    - fit the pipeline using training data\n",
    "    - print the classification report (use `sklearn.metrics.classification_report`) on test data"
   ]
  },
  {
   "cell_type": "code",
   "execution_count": 17,
   "id": "817c90a2",
   "metadata": {},
   "outputs": [],
   "source": [
    "def train(X, y, standardize = True, pca = False, pcs = 5) -> None:\n",
    "    # YOUR CODE HERE\n",
    "    # to avoid data leakage first split before scalings and pca\n",
    "    X_train, X_test, y_train, y_test = train_test_split(X, y, test_size=0.2, random_state=42)\n",
    "\n",
    "    # Scale based on Training set values\n",
    "    if standardize:    \n",
    "        scaler_train = preprocessing.StandardScaler().fit(X_train)\n",
    "        X_train = scaler_train.transform(X_train)\n",
    "        X_test = scaler_train.transform(X_test)\n",
    "\n",
    "    if pca:\n",
    "        # Apply PCA\n",
    "        pca = PCA(n_components=pcs)\n",
    "        pca = pca.fit(X_train) #fit\n",
    "        Xpc_train = pca.transform(X_train) # transform\n",
    "        Xpc_test = pca.transform(X_test)\n",
    "        \n",
    "        # Standardize Round #2: Now on PCs\n",
    "        if standardize:    \n",
    "            scaler_train = preprocessing.StandardScaler().fit(Xpc_train)\n",
    "            Xpc_train = scaler_train.transform(Xpc_train)\n",
    "            Xpc_test = scaler_train.transform(Xpc_test)\n",
    "    else:\n",
    "        Xpc_train = X_train\n",
    "        Xpc_test = X_test\n",
    "    \n",
    "    # Create Classifier Model\n",
    "    clf = LogisticRegression(random_state=0 , class_weight='balanced').fit(Xpc_train, y_train)\n",
    "        \n",
    "    # Predict on Training data  \n",
    "    y_pred = clf.predict(Xpc_test)\n",
    "    \n",
    "    print( classification_report(y_test, y_pred) )\n",
    "    \n",
    "    "
   ]
  },
  {
   "cell_type": "code",
   "execution_count": 18,
   "id": "369ab95a",
   "metadata": {},
   "outputs": [
    {
     "name": "stdout",
     "output_type": "stream",
     "text": [
      "              precision    recall  f1-score   support\n",
      "\n",
      "           0       0.76      0.77      0.76       659\n",
      "           1       0.54      0.53      0.54       341\n",
      "\n",
      "    accuracy                           0.69      1000\n",
      "   macro avg       0.65      0.65      0.65      1000\n",
      "weighted avg       0.69      0.69      0.69      1000\n",
      "\n"
     ]
    }
   ],
   "source": [
    "train(X,y)"
   ]
  },
  {
   "cell_type": "markdown",
   "id": "5b17ae17",
   "metadata": {},
   "source": [
    "Now apply the pipeline on the all the features `X` and review the performance"
   ]
  },
  {
   "cell_type": "code",
   "execution_count": 19,
   "id": "2dfc3392",
   "metadata": {},
   "outputs": [
    {
     "name": "stdout",
     "output_type": "stream",
     "text": [
      "Results: 1 Principal Components\n",
      "              precision    recall  f1-score   support\n",
      "\n",
      "           0       0.76      0.77      0.76       659\n",
      "           1       0.54      0.53      0.54       341\n",
      "\n",
      "    accuracy                           0.69      1000\n",
      "   macro avg       0.65      0.65      0.65      1000\n",
      "weighted avg       0.69      0.69      0.69      1000\n",
      "\n",
      "Results: 5 Principal Components\n",
      "              precision    recall  f1-score   support\n",
      "\n",
      "           0       0.76      0.77      0.76       659\n",
      "           1       0.54      0.53      0.54       341\n",
      "\n",
      "    accuracy                           0.69      1000\n",
      "   macro avg       0.65      0.65      0.65      1000\n",
      "weighted avg       0.69      0.69      0.69      1000\n",
      "\n",
      "Results: 10 Principal Components\n",
      "              precision    recall  f1-score   support\n",
      "\n",
      "           0       0.76      0.77      0.76       659\n",
      "           1       0.54      0.53      0.54       341\n",
      "\n",
      "    accuracy                           0.69      1000\n",
      "   macro avg       0.65      0.65      0.65      1000\n",
      "weighted avg       0.69      0.69      0.69      1000\n",
      "\n",
      "Results: 34 Principal Components\n",
      "              precision    recall  f1-score   support\n",
      "\n",
      "           0       0.76      0.77      0.76       659\n",
      "           1       0.54      0.53      0.54       341\n",
      "\n",
      "    accuracy                           0.69      1000\n",
      "   macro avg       0.65      0.65      0.65      1000\n",
      "weighted avg       0.69      0.69      0.69      1000\n",
      "\n"
     ]
    }
   ],
   "source": [
    "# YOUR CODE HERE\n",
    "# PCA := false, so these results should all be the same\n",
    "for pc_count in [1,5,10 , len(X.columns) ]:\n",
    "    print( f'Results: {pc_count} Principal Components' )\n",
    "    train(X, y, standardize = True,  pca = False, pcs = pc_count)\n"
   ]
  },
  {
   "cell_type": "code",
   "execution_count": 20,
   "id": "4f3d1b07",
   "metadata": {},
   "outputs": [
    {
     "name": "stdout",
     "output_type": "stream",
     "text": [
      "              precision    recall  f1-score   support\n",
      "\n",
      "           0       0.98      0.43      0.60       659\n",
      "           1       0.47      0.99      0.64       341\n",
      "\n",
      "    accuracy                           0.62      1000\n",
      "   macro avg       0.73      0.71      0.62      1000\n",
      "weighted avg       0.81      0.62      0.61      1000\n",
      "\n"
     ]
    }
   ],
   "source": [
    "# Results for No PCA & No standardization\n",
    "train(X, y, standardize = False,  pca = False, pcs = 0)"
   ]
  },
  {
   "cell_type": "markdown",
   "id": "b18c79f6",
   "metadata": {},
   "source": [
    "Similarly, apply the pipeline on the reduced / engineered features `X_reduced`. Should you include standardization in the pipeline?"
   ]
  },
  {
   "cell_type": "code",
   "execution_count": 21,
   "id": "7486aa3b",
   "metadata": {},
   "outputs": [
    {
     "name": "stdout",
     "output_type": "stream",
     "text": [
      "--------------------------------------------------------------\n",
      "Results: 1 Principal Components w/o Standardization\n",
      "              precision    recall  f1-score   support\n",
      "\n",
      "           0       0.74      0.87      0.80       659\n",
      "           1       0.62      0.43      0.51       341\n",
      "\n",
      "    accuracy                           0.72      1000\n",
      "   macro avg       0.68      0.65      0.65      1000\n",
      "weighted avg       0.70      0.72      0.70      1000\n",
      "\n",
      "Results: 1 Principal Components with Standardization\n",
      "              precision    recall  f1-score   support\n",
      "\n",
      "           0       0.67      0.52      0.58       659\n",
      "           1       0.35      0.50      0.41       341\n",
      "\n",
      "    accuracy                           0.51      1000\n",
      "   macro avg       0.51      0.51      0.50      1000\n",
      "weighted avg       0.56      0.51      0.53      1000\n",
      "\n",
      "--------------------------------------------------------------\n",
      "Results: 5 Principal Components w/o Standardization\n",
      "              precision    recall  f1-score   support\n",
      "\n",
      "           0       0.74      0.87      0.80       659\n",
      "           1       0.62      0.43      0.51       341\n",
      "\n",
      "    accuracy                           0.72      1000\n",
      "   macro avg       0.68      0.65      0.65      1000\n",
      "weighted avg       0.70      0.72      0.70      1000\n",
      "\n",
      "Results: 5 Principal Components with Standardization\n",
      "              precision    recall  f1-score   support\n",
      "\n",
      "           0       0.75      0.72      0.73       659\n",
      "           1       0.50      0.54      0.52       341\n",
      "\n",
      "    accuracy                           0.66      1000\n",
      "   macro avg       0.62      0.63      0.62      1000\n",
      "weighted avg       0.66      0.66      0.66      1000\n",
      "\n",
      "--------------------------------------------------------------\n",
      "Results: 10 Principal Components w/o Standardization\n",
      "              precision    recall  f1-score   support\n",
      "\n",
      "           0       0.74      0.87      0.80       659\n",
      "           1       0.62      0.43      0.51       341\n",
      "\n",
      "    accuracy                           0.72      1000\n",
      "   macro avg       0.68      0.65      0.65      1000\n",
      "weighted avg       0.70      0.72      0.70      1000\n",
      "\n",
      "Results: 10 Principal Components with Standardization\n",
      "              precision    recall  f1-score   support\n",
      "\n",
      "           0       0.74      0.69      0.72       659\n",
      "           1       0.48      0.54      0.50       341\n",
      "\n",
      "    accuracy                           0.64      1000\n",
      "   macro avg       0.61      0.62      0.61      1000\n",
      "weighted avg       0.65      0.64      0.64      1000\n",
      "\n",
      "--------------------------------------------------------------\n",
      "Results: 34 Principal Components w/o Standardization\n",
      "              precision    recall  f1-score   support\n",
      "\n",
      "           0       0.74      0.87      0.80       659\n",
      "           1       0.62      0.43      0.51       341\n",
      "\n",
      "    accuracy                           0.72      1000\n",
      "   macro avg       0.68      0.65      0.65      1000\n",
      "weighted avg       0.70      0.72      0.70      1000\n",
      "\n",
      "Results: 34 Principal Components with Standardization\n",
      "              precision    recall  f1-score   support\n",
      "\n",
      "           0       0.90      0.89      0.89       659\n",
      "           1       0.79      0.80      0.80       341\n",
      "\n",
      "    accuracy                           0.86      1000\n",
      "   macro avg       0.84      0.85      0.84      1000\n",
      "weighted avg       0.86      0.86      0.86      1000\n",
      "\n"
     ]
    }
   ],
   "source": [
    "# YOUR CODE HERE\n",
    "for pc_count in [1,5,10 , len(X.columns) ]:\n",
    "    \n",
    "    print('--------------------------------------------------------------')\n",
    "    print( f'Results: {pc_count} Principal Components w/o Standardization' )\n",
    "    train(X, y, standardize = False,  pca = True, pcs = pc_count)\n",
    "    \n",
    "    print( f'Results: {pc_count} Principal Components with Standardization' )\n",
    "    train(X, y, standardize = True,  pca = True, pcs = pc_count)"
   ]
  },
  {
   "attachments": {},
   "cell_type": "markdown",
   "id": "b6cf1219",
   "metadata": {},
   "source": [
    "8. Are the results as expected? Discuss the pros and cons using reduced set of features in this application with your teammate. \n",
    "\n",
    "*YOUR ANSWER HERE*\n",
    "*Potential* Pros\n",
    "- Obviously, the biggest advantage of using the reduced feature set is that we can continue to hurl pandas-profiler at each new dataframe taht we encounter.\n",
    "- The reduced data set is easier to visualize & evaluate whether Y varies along some principal components.\n",
    "- With PCA you have a direct estiamte of the amount of info your losing by dropping each successive PC.\n",
    "\n",
    "*Potential* Cons\n",
    "- No garauntee that the outcome will actually move according to the principal components (although we'd hope so)! The covariance structure of the Xs might have little to do with the manifold along which Y-targets vary.\n",
    "- Loss in direct interpretability of the features. They're now linear combinations of real entitities. Most people aren't tracking the linear transformation in thier heads so they can back-transform into something interpretable. Also, principal components don't have intelligible units of measurement.\n",
    "- You are losing some information by using a reduced set of features. Although PCA is better that you're keeping the most interpretable information.\n"
   ]
  },
  {
   "cell_type": "markdown",
   "id": "21cc9707",
   "metadata": {},
   "source": [
    "## Task 2. Customer Segmentation"
   ]
  },
  {
   "cell_type": "markdown",
   "id": "80a1a95d",
   "metadata": {},
   "source": [
    "In this task, we apply k-means clustering on the reduced data, experimenting different vaules of `n_cluster`, summarize all this information in a single plot, the *Elbow* plot. In addition, leverage silhouette visualization to help decide the \"optimal\" number of clusters in our data and answer: \n",
    "\n",
    "1. Are there any patterns among customer purchasing behaviors?\n",
    "2. If so, what categories do they belong to? How do you characterize the clusters?\n",
    "3. If not, what followup steps and / or recommendations will you make as an MLE?"
   ]
  },
  {
   "cell_type": "markdown",
   "id": "1b6dc7fd",
   "metadata": {},
   "source": [
    "1. Look up the [documentation](https://scikit-learn.org/stable/modules/clustering.html) and import the model class for k-means from `sklearn.cluster`"
   ]
  },
  {
   "cell_type": "code",
   "execution_count": 22,
   "id": "7fbbf216",
   "metadata": {},
   "outputs": [],
   "source": [
    "# YOUR CODE HERE\n",
    "from sklearn.cluster import KMeans\n"
   ]
  },
  {
   "cell_type": "markdown",
   "id": "9a4a915b",
   "metadata": {},
   "source": [
    "2. Complete `visualize_elbow`; inspect the code and complete\n",
    "\n",
    "    - fit k-means on the given data `X` and `k`, setting `random_state` to be 10 for reproducibility\n",
    "    - append the sum of squared distances of samples to their closest cluster center for each $k$ to list `inertias`"
   ]
  },
  {
   "cell_type": "code",
   "execution_count": 31,
   "id": "d2338ea5",
   "metadata": {},
   "outputs": [],
   "source": [
    "def visualize_elbow(X, ks , inits = 1):\n",
    "    fig, ax = plt.subplots()\n",
    "    inertias = []\n",
    "    for k in ks:\n",
    "        \n",
    "        kmeans = KMeans(n_clusters=k , n_init = inits ) # YOUR CODE HERE\n",
    "        kmeans.fit(X) # YOUR CODE HERE\n",
    "        \n",
    "        inertias.append( kmeans.inertia_ )\n",
    "        \n",
    "        \n",
    "    plt.plot(ks, inertias)\n",
    "    plt.xticks(ks)\n",
    "    plt.xlabel('Number of clusters')\n",
    "    plt.ylabel('Inertia')\n",
    "    plt.title('Elbow plot')"
   ]
  },
  {
   "cell_type": "markdown",
   "id": "62bc7db3",
   "metadata": {},
   "source": [
    "3. Visualize the elbow plot for the number of clusters ranging between 2 and 9. Discuss with your teammate, what is the 'optimal' number of clusters?"
   ]
  },
  {
   "cell_type": "code",
   "execution_count": 36,
   "id": "9de40c6e",
   "metadata": {},
   "outputs": [
    {
     "name": "stdout",
     "output_type": "stream",
     "text": [
      "(5000, 5)\n"
     ]
    },
    {
     "data": {
      "image/png": "[encoded data removed]",
      "text/plain": [
       "<Figure size 640x480 with 1 Axes>"
      ]
     },
     "metadata": {},
     "output_type": "display_data"
    }
   ],
   "source": [
    "# YOUR CODE HERE\n",
    "\n",
    "# Recreate the \"reduced\" data set for clarity\n",
    "# Original data --> scale it --> PCA --> scale the PCs --> Kmeans\n",
    "\n",
    "# Scale Orig\n",
    "scaler = preprocessing.StandardScaler().fit(X)\n",
    "X_scaled = scaler.transform(X)\n",
    "\n",
    "# PCA on Scaled\n",
    "pca = PCA(n_components=5)\n",
    "X_reduced = pca.fit_transform(X_scaled)\n",
    "\n",
    "# Scale the PCs\n",
    "scaler = preprocessing.StandardScaler().fit(X_reduced)\n",
    "X_reduced_scaled = scaler.transform(X_reduced)\n",
    "\n",
    "print(X_reduced_scaled.shape)\n",
    "\n",
    "# Elbow plot\n",
    "visualize_elbow(X_reduced_scaled , np.arange(1,51) , 10 )"
   ]
  },
  {
   "cell_type": "code",
   "execution_count": 38,
   "id": "9abc7095",
   "metadata": {},
   "outputs": [
    {
     "data": {
      "image/png": "[encoded data removed]",
      "text/plain": [
       "<Figure size 640x480 with 1 Axes>"
      ]
     },
     "metadata": {},
     "output_type": "display_data"
    }
   ],
   "source": [
    "# Elbow plot\n",
    "visualize_elbow(X_reduced_scaled , np.arange(1,21) , 10 )"
   ]
  },
  {
   "cell_type": "markdown",
   "id": "50183626",
   "metadata": {},
   "source": [
    "4. What are the disadvantage to use the Elbow method? "
   ]
  },
  {
   "attachments": {},
   "cell_type": "markdown",
   "id": "bd270b30",
   "metadata": {},
   "source": [
    "    *YOUR ANSWER HERE*\n",
    "- The main disadvantage is that it's subjective, it its own right it doesn't tell you how many clusters to selected.  \n",
    "    You'd need to determine your own pentaly for model complexity (e.g., number of clusters) to weigh against the reduction in the cost function.  \n",
    "- Note as well that you can't just take the minimum value because (excepting to randomization/noise) the elbow plot shoudl be monotonically decreasing). Hence the need to apply a penalty to increases in the number of clusters."
   ]
  },
  {
   "cell_type": "markdown",
   "id": "df38e1e1",
   "metadata": {},
   "source": [
    "5. Let's try a different approach: [silhouette score](https://towardsdatascience.com/clustering-metrics-better-than-the-elbow-method-6926e1f723a6).\n",
    "\n",
    "    A helper function `visualize_silhouette` is provided for you (inspect the code in `utils.py`) and figure out how to use it to visualize k-means for k ranges from 2 to 8 on the reduced data. "
   ]
  },
  {
   "cell_type": "code",
   "execution_count": 40,
   "id": "35d5ac66",
   "metadata": {},
   "outputs": [],
   "source": [
    "from utils import visualize_silhouette\n",
    "from yellowbrick.cluster import silhouette_visualizer\n"
   ]
  },
  {
   "cell_type": "code",
   "execution_count": 56,
   "id": "3047c431",
   "metadata": {
    "scrolled": false
   },
   "outputs": [
    {
     "data": {
      "image/png": "[encoded data removed]",
      "text/plain": [
       "<Figure size 800x550 with 1 Axes>"
      ]
     },
     "metadata": {},
     "output_type": "display_data"
    },
    {
     "data": {
      "image/png": "[encoded data removed]",
      "text/plain": [
       "<Figure size 800x550 with 1 Axes>"
      ]
     },
     "metadata": {},
     "output_type": "display_data"
    },
    {
     "data": {
      "image/png": "[encoded data removed]",
      "text/plain": [
       "<Figure size 800x550 with 1 Axes>"
      ]
     },
     "metadata": {},
     "output_type": "display_data"
    },
    {
     "data": {
      "image/png": "[encoded data removed]",
      "text/plain": [
       "<Figure size 800x550 with 1 Axes>"
      ]
     },
     "metadata": {},
     "output_type": "display_data"
    },
    {
     "data": {
      "image/png": "[encoded data removed]",
      "text/plain": [
       "<Figure size 800x550 with 1 Axes>"
      ]
     },
     "metadata": {},
     "output_type": "display_data"
    },
    {
     "data": {
      "image/png": "[encoded data removed]",
      "text/plain": [
       "<Figure size 800x550 with 1 Axes>"
      ]
     },
     "metadata": {},
     "output_type": "display_data"
    },
    {
     "data": {
      "image/png": "[encoded data removed]",
      "text/plain": [
       "<Figure size 800x550 with 1 Axes>"
      ]
     },
     "metadata": {},
     "output_type": "display_data"
    }
   ],
   "source": [
    "# YOUR CODE HERE\n",
    "spi = 0\n",
    "for n_clusters in np.arange(2,9): \n",
    "    silhouette_visualizer( KMeans( n_clusters , random_state=42 , n_init = 10), X_reduced_scaled , colors='yellowbrick' )\n"
   ]
  },
  {
   "cell_type": "markdown",
   "id": "6adf9e73",
   "metadata": {},
   "source": [
    "6. Instantiate a k-means model using the number of cluster that you deem optimal, assign it to `km`, and fit on the reduced data. "
   ]
  },
  {
   "cell_type": "code",
   "execution_count": 49,
   "id": "b5692682",
   "metadata": {},
   "outputs": [
    {
     "data": {
      "text/html": [
       "<style>#sk-container-id-3 {color: black;background-color: white;}#sk-container-id-3 pre{padding: 0;}#sk-container-id-3 div.sk-toggleable {background-color: white;}#sk-container-id-3 label.sk-toggleable__label {cursor: pointer;display: block;width: 100%;margin-bottom: 0;padding: 0.3em;box-sizing: border-box;text-align: center;}#sk-container-id-3 label.sk-toggleable__label-arrow:before {content: \"▸\";float: left;margin-right: 0.25em;color: #696969;}#sk-container-id-3 label.sk-toggleable__label-arrow:hover:before {color: black;}#sk-container-id-3 div.sk-estimator:hover label.sk-toggleable__label-arrow:before {color: black;}#sk-container-id-3 div.sk-toggleable__content {max-height: 0;max-width: 0;overflow: hidden;text-align: left;background-color: #f0f8ff;}#sk-container-id-3 div.sk-toggleable__content pre {margin: 0.2em;color: black;border-radius: 0.25em;background-color: #f0f8ff;}#sk-container-id-3 input.sk-toggleable__control:checked~div.sk-toggleable__content {max-height: 200px;max-width: 100%;overflow: auto;}#sk-container-id-3 input.sk-toggleable__control:checked~label.sk-toggleable__label-arrow:before {content: \"▾\";}#sk-container-id-3 div.sk-estimator input.sk-toggleable__control:checked~label.sk-toggleable__label {background-color: #d4ebff;}#sk-container-id-3 div.sk-label input.sk-toggleable__control:checked~label.sk-toggleable__label {background-color: #d4ebff;}#sk-container-id-3 input.sk-hidden--visually {border: 0;clip: rect(1px 1px 1px 1px);clip: rect(1px, 1px, 1px, 1px);height: 1px;margin: -1px;overflow: hidden;padding: 0;position: absolute;width: 1px;}#sk-container-id-3 div.sk-estimator {font-family: monospace;background-color: #f0f8ff;border: 1px dotted black;border-radius: 0.25em;box-sizing: border-box;margin-bottom: 0.5em;}#sk-container-id-3 div.sk-estimator:hover {background-color: #d4ebff;}#sk-container-id-3 div.sk-parallel-item::after {content: \"\";width: 100%;border-bottom: 1px solid gray;flex-grow: 1;}#sk-container-id-3 div.sk-label:hover label.sk-toggleable__label {background-color: #d4ebff;}#sk-container-id-3 div.sk-serial::before {content: \"\";position: absolute;border-left: 1px solid gray;box-sizing: border-box;top: 0;bottom: 0;left: 50%;z-index: 0;}#sk-container-id-3 div.sk-serial {display: flex;flex-direction: column;align-items: center;background-color: white;padding-right: 0.2em;padding-left: 0.2em;position: relative;}#sk-container-id-3 div.sk-item {position: relative;z-index: 1;}#sk-container-id-3 div.sk-parallel {display: flex;align-items: stretch;justify-content: center;background-color: white;position: relative;}#sk-container-id-3 div.sk-item::before, #sk-container-id-3 div.sk-parallel-item::before {content: \"\";position: absolute;border-left: 1px solid gray;box-sizing: border-box;top: 0;bottom: 0;left: 50%;z-index: -1;}#sk-container-id-3 div.sk-parallel-item {display: flex;flex-direction: column;z-index: 1;position: relative;background-color: white;}#sk-container-id-3 div.sk-parallel-item:first-child::after {align-self: flex-end;width: 50%;}#sk-container-id-3 div.sk-parallel-item:last-child::after {align-self: flex-start;width: 50%;}#sk-container-id-3 div.sk-parallel-item:only-child::after {width: 0;}#sk-container-id-3 div.sk-dashed-wrapped {border: 1px dashed gray;margin: 0 0.4em 0.5em 0.4em;box-sizing: border-box;padding-bottom: 0.4em;background-color: white;}#sk-container-id-3 div.sk-label label {font-family: monospace;font-weight: bold;display: inline-block;line-height: 1.2em;}#sk-container-id-3 div.sk-label-container {text-align: center;}#sk-container-id-3 div.sk-container {/* jupyter's `normalize.less` sets `[hidden] { display: none; }` but bootstrap.min.css set `[hidden] { display: none !important; }` so we also need the `!important` here to be able to override the default hidden behavior on the sphinx rendered scikit-learn.org. See: https://github.com/scikit-learn/scikit-learn/issues/21755 */display: inline-block !important;position: relative;}#sk-container-id-3 div.sk-text-repr-fallback {display: none;}</style><div id=\"sk-container-id-3\" class=\"sk-top-container\"><div class=\"sk-text-repr-fallback\"><pre>KMeans(n_clusters=10, n_init=20)</pre><b>In a Jupyter environment, please rerun this cell to show the HTML representation or trust the notebook. <br />On GitHub, the HTML representation is unable to render, please try loading this page with nbviewer.org.</b></div><div class=\"sk-container\" hidden><div class=\"sk-item\"><div class=\"sk-estimator sk-toggleable\"><input class=\"sk-toggleable__control sk-hidden--visually\" id=\"sk-estimator-id-5\" type=\"checkbox\" checked><label for=\"sk-estimator-id-5\" class=\"sk-toggleable__label sk-toggleable__label-arrow\">KMeans</label><div class=\"sk-toggleable__content\"><pre>KMeans(n_clusters=10, n_init=20)</pre></div></div></div></div></div>"
      ],
      "text/plain": [
       "KMeans(n_clusters=10, n_init=20)"
      ]
     },
     "execution_count": 49,
     "metadata": {},
     "output_type": "execute_result"
    }
   ],
   "source": [
    "# YOUR CODE HERE\n",
    "km = KMeans(n_clusters= 10 , n_init = 20 ) # YOUR CODE HERE\n",
    "km.fit( X_reduced_scaled ) # YOUR CODE HERE\n"
   ]
  },
  {
   "cell_type": "markdown",
   "id": "19b802fa",
   "metadata": {},
   "source": [
    "7. What is the size of each cluster? "
   ]
  },
  {
   "cell_type": "code",
   "execution_count": 55,
   "id": "d41df1da",
   "metadata": {},
   "outputs": [
    {
     "name": "stdout",
     "output_type": "stream",
     "text": [
      "Size of each cluster: centroid\n",
      "5              3\n",
      "3             15\n",
      "7             27\n",
      "0             63\n",
      "1            157\n",
      "4            200\n",
      "6            826\n",
      "8            908\n",
      "2            963\n",
      "9           1838\n",
      "dtype: int64\n"
     ]
    }
   ],
   "source": [
    "# Observations per cluster\n",
    "\n",
    "print(\"Size of each cluster:\", pd.DataFrame({\"centroid\": km.labels_}\n",
    "                                            ).value_counts().sort_index().sort_values() )"
   ]
  },
  {
   "cell_type": "markdown",
   "id": "cfaf3260",
   "metadata": {},
   "source": [
    "8. Create a new column called `cluster_pca` in `past`, with values as predicted cluster index predicted by `km`. "
   ]
  },
  {
   "cell_type": "code",
   "execution_count": 62,
   "id": "e55328f5",
   "metadata": {},
   "outputs": [],
   "source": [
    "# YOUR CODE HERE\n",
    "'''\n",
    "Note: \"past\" is the original data df.\n",
    "df_past = pd.read_csv( '../dat/past.csv.gz' )\n",
    "\n",
    "'''\n",
    "df_past['pred_labels'] = km.labels_\n",
    "\n",
    "# Get the reduced data set too for context\n",
    "df_reduced_scaled_x = pd.DataFrame(X_reduced_scaled , columns = ['C1','C2','C3','C4','C5'])\n",
    "df_reduced_scaled_x['pred_labels'] = km.labels_\n"
   ]
  },
  {
   "cell_type": "markdown",
   "id": "62ea839f",
   "metadata": {},
   "source": [
    "9. Open ended: manipulate `past` and see if you can characterize each cluster (e.g., calculate statistics of / visualize features for each cluster), how will you intepret the results? \n",
    "\n",
    "    **Note**. This is probably the most important part as far as the business stakeholders are concerned: \"*What can I do with your results?*\" The math, modeling part is relatively easy, compared to actionable recommendations you make for business. Thus, before jumping on a different algorithm for the given task, do you best to 1) understand the data in depth 2) keep buisiness use cases in mind throughout all steps. "
   ]
  },
  {
   "cell_type": "markdown",
   "id": "05941c7f",
   "metadata": {},
   "source": [
    "    *YOUR ANSWER HERE*"
   ]
  },
  {
   "cell_type": "code",
   "execution_count": 79,
   "id": "1e6bf905",
   "metadata": {},
   "outputs": [
    {
     "name": "stdout",
     "output_type": "stream",
     "text": [
      "\n",
      "Cluster 0\n"
     ]
    },
    {
     "data": {
      "text/html": [
       "<div>\n",
       "<style scoped>\n",
       "    .dataframe tbody tr th:only-of-type {\n",
       "        vertical-align: middle;\n",
       "    }\n",
       "\n",
       "    .dataframe tbody tr th {\n",
       "        vertical-align: top;\n",
       "    }\n",
       "\n",
       "    .dataframe thead th {\n",
       "        text-align: right;\n",
       "    }\n",
       "</style>\n",
       "<table border=\"1\" class=\"dataframe\">\n",
       "  <thead>\n",
       "    <tr style=\"text-align: right;\">\n",
       "      <th></th>\n",
       "      <th>product_id</th>\n",
       "      <th>user_id</th>\n",
       "      <th>NumOfEventsInJourney</th>\n",
       "      <th>NumSessions</th>\n",
       "      <th>interactionTime</th>\n",
       "      <th>maxPrice</th>\n",
       "      <th>minPrice</th>\n",
       "      <th>NumCart</th>\n",
       "      <th>NumView</th>\n",
       "      <th>NumRemove</th>\n",
       "      <th>...</th>\n",
       "      <th>Afternoon</th>\n",
       "      <th>Dawn</th>\n",
       "      <th>EarlyMorning</th>\n",
       "      <th>Evening</th>\n",
       "      <th>Morning</th>\n",
       "      <th>Night</th>\n",
       "      <th>Purchased?</th>\n",
       "      <th>Noon</th>\n",
       "      <th>Category</th>\n",
       "      <th>pred_labels</th>\n",
       "    </tr>\n",
       "  </thead>\n",
       "  <tbody>\n",
       "    <tr>\n",
       "      <th>mean</th>\n",
       "      <td>5.746797e+06</td>\n",
       "      <td>4.941830e+08</td>\n",
       "      <td>2.408541</td>\n",
       "      <td>1.418972</td>\n",
       "      <td>604195.407067</td>\n",
       "      <td>4.199789</td>\n",
       "      <td>4.004847</td>\n",
       "      <td>0.918405</td>\n",
       "      <td>0.455064</td>\n",
       "      <td>0.986924</td>\n",
       "      <td>...</td>\n",
       "      <td>0.199660</td>\n",
       "      <td>0.085450</td>\n",
       "      <td>0.176455</td>\n",
       "      <td>0.212736</td>\n",
       "      <td>0.166289</td>\n",
       "      <td>0.124074</td>\n",
       "      <td>0.126984</td>\n",
       "      <td>0.035336</td>\n",
       "      <td>1.255026</td>\n",
       "      <td>0.0</td>\n",
       "    </tr>\n",
       "    <tr>\n",
       "      <th>median</th>\n",
       "      <td>5.856787e+06</td>\n",
       "      <td>4.976703e+08</td>\n",
       "      <td>2.000000</td>\n",
       "      <td>1.333333</td>\n",
       "      <td>33365.000000</td>\n",
       "      <td>3.490000</td>\n",
       "      <td>3.173333</td>\n",
       "      <td>1.000000</td>\n",
       "      <td>0.400000</td>\n",
       "      <td>1.000000</td>\n",
       "      <td>...</td>\n",
       "      <td>0.000000</td>\n",
       "      <td>0.000000</td>\n",
       "      <td>0.000000</td>\n",
       "      <td>0.000000</td>\n",
       "      <td>0.000000</td>\n",
       "      <td>0.000000</td>\n",
       "      <td>0.000000</td>\n",
       "      <td>0.000000</td>\n",
       "      <td>1.000000</td>\n",
       "      <td>0.0</td>\n",
       "    </tr>\n",
       "    <tr>\n",
       "      <th>mode</th>\n",
       "      <td>7.296698e+05</td>\n",
       "      <td>6.170501e+07</td>\n",
       "      <td>1.352286</td>\n",
       "      <td>0.471952</td>\n",
       "      <td>971998.351646</td>\n",
       "      <td>3.429890</td>\n",
       "      <td>3.484706</td>\n",
       "      <td>0.674105</td>\n",
       "      <td>0.641359</td>\n",
       "      <td>0.949783</td>\n",
       "      <td>...</td>\n",
       "      <td>0.247216</td>\n",
       "      <td>0.207746</td>\n",
       "      <td>0.297204</td>\n",
       "      <td>0.269264</td>\n",
       "      <td>0.297074</td>\n",
       "      <td>0.284938</td>\n",
       "      <td>0.335630</td>\n",
       "      <td>0.148398</td>\n",
       "      <td>0.739851</td>\n",
       "      <td>0.0</td>\n",
       "    </tr>\n",
       "  </tbody>\n",
       "</table>\n",
       "<p>3 rows × 38 columns</p>\n",
       "</div>"
      ],
      "text/plain": [
       "          product_id       user_id  NumOfEventsInJourney  NumSessions  \\\n",
       "mean    5.746797e+06  4.941830e+08              2.408541     1.418972   \n",
       "median  5.856787e+06  4.976703e+08              2.000000     1.333333   \n",
       "mode    7.296698e+05  6.170501e+07              1.352286     0.471952   \n",
       "\n",
       "        interactionTime  maxPrice  minPrice   NumCart   NumView  NumRemove  \\\n",
       "mean      604195.407067  4.199789  4.004847  0.918405  0.455064   0.986924   \n",
       "median     33365.000000  3.490000  3.173333  1.000000  0.400000   1.000000   \n",
       "mode      971998.351646  3.429890  3.484706  0.674105  0.641359   0.949783   \n",
       "\n",
       "        ...  Afternoon      Dawn  EarlyMorning   Evening   Morning     Night  \\\n",
       "mean    ...   0.199660  0.085450      0.176455  0.212736  0.166289  0.124074   \n",
       "median  ...   0.000000  0.000000      0.000000  0.000000  0.000000  0.000000   \n",
       "mode    ...   0.247216  0.207746      0.297204  0.269264  0.297074  0.284938   \n",
       "\n",
       "        Purchased?      Noon  Category  pred_labels  \n",
       "mean      0.126984  0.035336  1.255026          0.0  \n",
       "median    0.000000  0.000000  1.000000          0.0  \n",
       "mode      0.335630  0.148398  0.739851          0.0  \n",
       "\n",
       "[3 rows x 38 columns]"
      ]
     },
     "metadata": {},
     "output_type": "display_data"
    },
    {
     "name": "stdout",
     "output_type": "stream",
     "text": [
      "\n",
      "Cluster 1\n"
     ]
    },
    {
     "data": {
      "text/html": [
       "<div>\n",
       "<style scoped>\n",
       "    .dataframe tbody tr th:only-of-type {\n",
       "        vertical-align: middle;\n",
       "    }\n",
       "\n",
       "    .dataframe tbody tr th {\n",
       "        vertical-align: top;\n",
       "    }\n",
       "\n",
       "    .dataframe thead th {\n",
       "        text-align: right;\n",
       "    }\n",
       "</style>\n",
       "<table border=\"1\" class=\"dataframe\">\n",
       "  <thead>\n",
       "    <tr style=\"text-align: right;\">\n",
       "      <th></th>\n",
       "      <th>product_id</th>\n",
       "      <th>user_id</th>\n",
       "      <th>NumOfEventsInJourney</th>\n",
       "      <th>NumSessions</th>\n",
       "      <th>interactionTime</th>\n",
       "      <th>maxPrice</th>\n",
       "      <th>minPrice</th>\n",
       "      <th>NumCart</th>\n",
       "      <th>NumView</th>\n",
       "      <th>NumRemove</th>\n",
       "      <th>...</th>\n",
       "      <th>Afternoon</th>\n",
       "      <th>Dawn</th>\n",
       "      <th>EarlyMorning</th>\n",
       "      <th>Evening</th>\n",
       "      <th>Morning</th>\n",
       "      <th>Night</th>\n",
       "      <th>Purchased?</th>\n",
       "      <th>Noon</th>\n",
       "      <th>Category</th>\n",
       "      <th>pred_labels</th>\n",
       "    </tr>\n",
       "  </thead>\n",
       "  <tbody>\n",
       "    <tr>\n",
       "      <th>mean</th>\n",
       "      <td>5.792937e+06</td>\n",
       "      <td>5.049191e+08</td>\n",
       "      <td>5.130498</td>\n",
       "      <td>2.806720</td>\n",
       "      <td>2.211767e+06</td>\n",
       "      <td>5.103495</td>\n",
       "      <td>4.962954</td>\n",
       "      <td>1.517012</td>\n",
       "      <td>1.914788</td>\n",
       "      <td>1.479867</td>\n",
       "      <td>...</td>\n",
       "      <td>0.209388</td>\n",
       "      <td>0.065860</td>\n",
       "      <td>0.121391</td>\n",
       "      <td>0.250374</td>\n",
       "      <td>0.132994</td>\n",
       "      <td>0.134707</td>\n",
       "      <td>0.273885</td>\n",
       "      <td>0.085286</td>\n",
       "      <td>2.098287</td>\n",
       "      <td>1.0</td>\n",
       "    </tr>\n",
       "    <tr>\n",
       "      <th>median</th>\n",
       "      <td>5.842840e+06</td>\n",
       "      <td>5.177758e+08</td>\n",
       "      <td>4.500000</td>\n",
       "      <td>2.333333</td>\n",
       "      <td>1.406387e+06</td>\n",
       "      <td>3.970000</td>\n",
       "      <td>3.940000</td>\n",
       "      <td>1.000000</td>\n",
       "      <td>1.500000</td>\n",
       "      <td>1.333333</td>\n",
       "      <td>...</td>\n",
       "      <td>0.000000</td>\n",
       "      <td>0.000000</td>\n",
       "      <td>0.000000</td>\n",
       "      <td>0.000000</td>\n",
       "      <td>0.000000</td>\n",
       "      <td>0.000000</td>\n",
       "      <td>0.000000</td>\n",
       "      <td>0.000000</td>\n",
       "      <td>2.000000</td>\n",
       "      <td>1.0</td>\n",
       "    </tr>\n",
       "    <tr>\n",
       "      <th>mode</th>\n",
       "      <td>4.629576e+05</td>\n",
       "      <td>7.008441e+07</td>\n",
       "      <td>2.675145</td>\n",
       "      <td>1.341314</td>\n",
       "      <td>2.326865e+06</td>\n",
       "      <td>5.590738</td>\n",
       "      <td>5.580443</td>\n",
       "      <td>1.299050</td>\n",
       "      <td>1.940938</td>\n",
       "      <td>1.048119</td>\n",
       "      <td>...</td>\n",
       "      <td>0.324418</td>\n",
       "      <td>0.190854</td>\n",
       "      <td>0.245831</td>\n",
       "      <td>0.347789</td>\n",
       "      <td>0.277126</td>\n",
       "      <td>0.282596</td>\n",
       "      <td>0.447378</td>\n",
       "      <td>0.215407</td>\n",
       "      <td>1.166726</td>\n",
       "      <td>0.0</td>\n",
       "    </tr>\n",
       "  </tbody>\n",
       "</table>\n",
       "<p>3 rows × 38 columns</p>\n",
       "</div>"
      ],
      "text/plain": [
       "          product_id       user_id  NumOfEventsInJourney  NumSessions  \\\n",
       "mean    5.792937e+06  5.049191e+08              5.130498     2.806720   \n",
       "median  5.842840e+06  5.177758e+08              4.500000     2.333333   \n",
       "mode    4.629576e+05  7.008441e+07              2.675145     1.341314   \n",
       "\n",
       "        interactionTime  maxPrice  minPrice   NumCart   NumView  NumRemove  \\\n",
       "mean       2.211767e+06  5.103495  4.962954  1.517012  1.914788   1.479867   \n",
       "median     1.406387e+06  3.970000  3.940000  1.000000  1.500000   1.333333   \n",
       "mode       2.326865e+06  5.590738  5.580443  1.299050  1.940938   1.048119   \n",
       "\n",
       "        ...  Afternoon      Dawn  EarlyMorning   Evening   Morning     Night  \\\n",
       "mean    ...   0.209388  0.065860      0.121391  0.250374  0.132994  0.134707   \n",
       "median  ...   0.000000  0.000000      0.000000  0.000000  0.000000  0.000000   \n",
       "mode    ...   0.324418  0.190854      0.245831  0.347789  0.277126  0.282596   \n",
       "\n",
       "        Purchased?      Noon  Category  pred_labels  \n",
       "mean      0.273885  0.085286  2.098287          1.0  \n",
       "median    0.000000  0.000000  2.000000          1.0  \n",
       "mode      0.447378  0.215407  1.166726          0.0  \n",
       "\n",
       "[3 rows x 38 columns]"
      ]
     },
     "metadata": {},
     "output_type": "display_data"
    },
    {
     "name": "stdout",
     "output_type": "stream",
     "text": [
      "\n",
      "Cluster 2\n"
     ]
    },
    {
     "data": {
      "text/html": [
       "<div>\n",
       "<style scoped>\n",
       "    .dataframe tbody tr th:only-of-type {\n",
       "        vertical-align: middle;\n",
       "    }\n",
       "\n",
       "    .dataframe tbody tr th {\n",
       "        vertical-align: top;\n",
       "    }\n",
       "\n",
       "    .dataframe thead th {\n",
       "        text-align: right;\n",
       "    }\n",
       "</style>\n",
       "<table border=\"1\" class=\"dataframe\">\n",
       "  <thead>\n",
       "    <tr style=\"text-align: right;\">\n",
       "      <th></th>\n",
       "      <th>product_id</th>\n",
       "      <th>user_id</th>\n",
       "      <th>NumOfEventsInJourney</th>\n",
       "      <th>NumSessions</th>\n",
       "      <th>interactionTime</th>\n",
       "      <th>maxPrice</th>\n",
       "      <th>minPrice</th>\n",
       "      <th>NumCart</th>\n",
       "      <th>NumView</th>\n",
       "      <th>NumRemove</th>\n",
       "      <th>...</th>\n",
       "      <th>Afternoon</th>\n",
       "      <th>Dawn</th>\n",
       "      <th>EarlyMorning</th>\n",
       "      <th>Evening</th>\n",
       "      <th>Morning</th>\n",
       "      <th>Night</th>\n",
       "      <th>Purchased?</th>\n",
       "      <th>Noon</th>\n",
       "      <th>Category</th>\n",
       "      <th>pred_labels</th>\n",
       "    </tr>\n",
       "  </thead>\n",
       "  <tbody>\n",
       "    <tr>\n",
       "      <th>mean</th>\n",
       "      <td>5.720089e+06</td>\n",
       "      <td>5.404976e+08</td>\n",
       "      <td>1.632067</td>\n",
       "      <td>1.183607</td>\n",
       "      <td>108585.282479</td>\n",
       "      <td>6.457138</td>\n",
       "      <td>6.413372</td>\n",
       "      <td>0.417536</td>\n",
       "      <td>0.854554</td>\n",
       "      <td>0.290581</td>\n",
       "      <td>...</td>\n",
       "      <td>0.232384</td>\n",
       "      <td>0.068891</td>\n",
       "      <td>0.146202</td>\n",
       "      <td>0.255840</td>\n",
       "      <td>0.158333</td>\n",
       "      <td>0.083660</td>\n",
       "      <td>0.129803</td>\n",
       "      <td>0.054689</td>\n",
       "      <td>1.038953</td>\n",
       "      <td>2.0</td>\n",
       "    </tr>\n",
       "    <tr>\n",
       "      <th>median</th>\n",
       "      <td>5.860451e+06</td>\n",
       "      <td>5.582251e+08</td>\n",
       "      <td>1.285714</td>\n",
       "      <td>1.000000</td>\n",
       "      <td>13.000000</td>\n",
       "      <td>5.000000</td>\n",
       "      <td>4.950000</td>\n",
       "      <td>0.333333</td>\n",
       "      <td>1.000000</td>\n",
       "      <td>0.000000</td>\n",
       "      <td>...</td>\n",
       "      <td>0.000000</td>\n",
       "      <td>0.000000</td>\n",
       "      <td>0.000000</td>\n",
       "      <td>0.000000</td>\n",
       "      <td>0.000000</td>\n",
       "      <td>0.000000</td>\n",
       "      <td>0.000000</td>\n",
       "      <td>0.000000</td>\n",
       "      <td>1.000000</td>\n",
       "      <td>2.0</td>\n",
       "    </tr>\n",
       "    <tr>\n",
       "      <th>mode</th>\n",
       "      <td>8.346703e+05</td>\n",
       "      <td>7.302037e+07</td>\n",
       "      <td>0.836719</td>\n",
       "      <td>0.335531</td>\n",
       "      <td>422578.199197</td>\n",
       "      <td>5.410963</td>\n",
       "      <td>5.377375</td>\n",
       "      <td>0.449879</td>\n",
       "      <td>0.567656</td>\n",
       "      <td>0.523660</td>\n",
       "      <td>...</td>\n",
       "      <td>0.346987</td>\n",
       "      <td>0.214016</td>\n",
       "      <td>0.278209</td>\n",
       "      <td>0.350274</td>\n",
       "      <td>0.298496</td>\n",
       "      <td>0.221714</td>\n",
       "      <td>0.336261</td>\n",
       "      <td>0.183450</td>\n",
       "      <td>0.245833</td>\n",
       "      <td>0.0</td>\n",
       "    </tr>\n",
       "  </tbody>\n",
       "</table>\n",
       "<p>3 rows × 38 columns</p>\n",
       "</div>"
      ],
      "text/plain": [
       "          product_id       user_id  NumOfEventsInJourney  NumSessions  \\\n",
       "mean    5.720089e+06  5.404976e+08              1.632067     1.183607   \n",
       "median  5.860451e+06  5.582251e+08              1.285714     1.000000   \n",
       "mode    8.346703e+05  7.302037e+07              0.836719     0.335531   \n",
       "\n",
       "        interactionTime  maxPrice  minPrice   NumCart   NumView  NumRemove  \\\n",
       "mean      108585.282479  6.457138  6.413372  0.417536  0.854554   0.290581   \n",
       "median        13.000000  5.000000  4.950000  0.333333  1.000000   0.000000   \n",
       "mode      422578.199197  5.410963  5.377375  0.449879  0.567656   0.523660   \n",
       "\n",
       "        ...  Afternoon      Dawn  EarlyMorning   Evening   Morning     Night  \\\n",
       "mean    ...   0.232384  0.068891      0.146202  0.255840  0.158333  0.083660   \n",
       "median  ...   0.000000  0.000000      0.000000  0.000000  0.000000  0.000000   \n",
       "mode    ...   0.346987  0.214016      0.278209  0.350274  0.298496  0.221714   \n",
       "\n",
       "        Purchased?      Noon  Category  pred_labels  \n",
       "mean      0.129803  0.054689  1.038953          2.0  \n",
       "median    0.000000  0.000000  1.000000          2.0  \n",
       "mode      0.336261  0.183450  0.245833          0.0  \n",
       "\n",
       "[3 rows x 38 columns]"
      ]
     },
     "metadata": {},
     "output_type": "display_data"
    },
    {
     "name": "stdout",
     "output_type": "stream",
     "text": [
      "\n",
      "Cluster 3\n"
     ]
    },
    {
     "data": {
      "text/html": [
       "<div>\n",
       "<style scoped>\n",
       "    .dataframe tbody tr th:only-of-type {\n",
       "        vertical-align: middle;\n",
       "    }\n",
       "\n",
       "    .dataframe tbody tr th {\n",
       "        vertical-align: top;\n",
       "    }\n",
       "\n",
       "    .dataframe thead th {\n",
       "        text-align: right;\n",
       "    }\n",
       "</style>\n",
       "<table border=\"1\" class=\"dataframe\">\n",
       "  <thead>\n",
       "    <tr style=\"text-align: right;\">\n",
       "      <th></th>\n",
       "      <th>product_id</th>\n",
       "      <th>user_id</th>\n",
       "      <th>NumOfEventsInJourney</th>\n",
       "      <th>NumSessions</th>\n",
       "      <th>interactionTime</th>\n",
       "      <th>maxPrice</th>\n",
       "      <th>minPrice</th>\n",
       "      <th>NumCart</th>\n",
       "      <th>NumView</th>\n",
       "      <th>NumRemove</th>\n",
       "      <th>...</th>\n",
       "      <th>Afternoon</th>\n",
       "      <th>Dawn</th>\n",
       "      <th>EarlyMorning</th>\n",
       "      <th>Evening</th>\n",
       "      <th>Morning</th>\n",
       "      <th>Night</th>\n",
       "      <th>Purchased?</th>\n",
       "      <th>Noon</th>\n",
       "      <th>Category</th>\n",
       "      <th>pred_labels</th>\n",
       "    </tr>\n",
       "  </thead>\n",
       "  <tbody>\n",
       "    <tr>\n",
       "      <th>mean</th>\n",
       "      <td>5.879960e+06</td>\n",
       "      <td>5.106624e+08</td>\n",
       "      <td>4.80000</td>\n",
       "      <td>1.333333</td>\n",
       "      <td>6.946741e+05</td>\n",
       "      <td>6.149000</td>\n",
       "      <td>5.831667</td>\n",
       "      <td>1.233333</td>\n",
       "      <td>0.100000</td>\n",
       "      <td>3.466667</td>\n",
       "      <td>...</td>\n",
       "      <td>0.433333</td>\n",
       "      <td>0.100000</td>\n",
       "      <td>0.066667</td>\n",
       "      <td>0.400000</td>\n",
       "      <td>0.0</td>\n",
       "      <td>0.0</td>\n",
       "      <td>0.0</td>\n",
       "      <td>0.0</td>\n",
       "      <td>1.266667</td>\n",
       "      <td>3.0</td>\n",
       "    </tr>\n",
       "    <tr>\n",
       "      <th>median</th>\n",
       "      <td>5.902100e+06</td>\n",
       "      <td>5.318268e+08</td>\n",
       "      <td>2.00000</td>\n",
       "      <td>1.000000</td>\n",
       "      <td>7.100000e+02</td>\n",
       "      <td>5.560000</td>\n",
       "      <td>5.560000</td>\n",
       "      <td>1.000000</td>\n",
       "      <td>0.000000</td>\n",
       "      <td>1.000000</td>\n",
       "      <td>...</td>\n",
       "      <td>0.000000</td>\n",
       "      <td>0.000000</td>\n",
       "      <td>0.000000</td>\n",
       "      <td>0.000000</td>\n",
       "      <td>0.0</td>\n",
       "      <td>0.0</td>\n",
       "      <td>0.0</td>\n",
       "      <td>0.0</td>\n",
       "      <td>1.000000</td>\n",
       "      <td>3.0</td>\n",
       "    </tr>\n",
       "    <tr>\n",
       "      <th>mode</th>\n",
       "      <td>4.317055e+04</td>\n",
       "      <td>1.166455e+08</td>\n",
       "      <td>9.82853</td>\n",
       "      <td>0.487950</td>\n",
       "      <td>1.821101e+06</td>\n",
       "      <td>5.198785</td>\n",
       "      <td>5.429769</td>\n",
       "      <td>0.776132</td>\n",
       "      <td>0.280306</td>\n",
       "      <td>9.642663</td>\n",
       "      <td>...</td>\n",
       "      <td>0.495215</td>\n",
       "      <td>0.280306</td>\n",
       "      <td>0.258199</td>\n",
       "      <td>0.507093</td>\n",
       "      <td>0.0</td>\n",
       "      <td>0.0</td>\n",
       "      <td>0.0</td>\n",
       "      <td>0.0</td>\n",
       "      <td>0.703732</td>\n",
       "      <td>0.0</td>\n",
       "    </tr>\n",
       "  </tbody>\n",
       "</table>\n",
       "<p>3 rows × 38 columns</p>\n",
       "</div>"
      ],
      "text/plain": [
       "          product_id       user_id  NumOfEventsInJourney  NumSessions  \\\n",
       "mean    5.879960e+06  5.106624e+08               4.80000     1.333333   \n",
       "median  5.902100e+06  5.318268e+08               2.00000     1.000000   \n",
       "mode    4.317055e+04  1.166455e+08               9.82853     0.487950   \n",
       "\n",
       "        interactionTime  maxPrice  minPrice   NumCart   NumView  NumRemove  \\\n",
       "mean       6.946741e+05  6.149000  5.831667  1.233333  0.100000   3.466667   \n",
       "median     7.100000e+02  5.560000  5.560000  1.000000  0.000000   1.000000   \n",
       "mode       1.821101e+06  5.198785  5.429769  0.776132  0.280306   9.642663   \n",
       "\n",
       "        ...  Afternoon      Dawn  EarlyMorning   Evening  Morning  Night  \\\n",
       "mean    ...   0.433333  0.100000      0.066667  0.400000      0.0    0.0   \n",
       "median  ...   0.000000  0.000000      0.000000  0.000000      0.0    0.0   \n",
       "mode    ...   0.495215  0.280306      0.258199  0.507093      0.0    0.0   \n",
       "\n",
       "        Purchased?  Noon  Category  pred_labels  \n",
       "mean           0.0   0.0  1.266667          3.0  \n",
       "median         0.0   0.0  1.000000          3.0  \n",
       "mode           0.0   0.0  0.703732          0.0  \n",
       "\n",
       "[3 rows x 38 columns]"
      ]
     },
     "metadata": {},
     "output_type": "display_data"
    },
    {
     "name": "stdout",
     "output_type": "stream",
     "text": [
      "\n",
      "Cluster 4\n"
     ]
    },
    {
     "data": {
      "text/html": [
       "<div>\n",
       "<style scoped>\n",
       "    .dataframe tbody tr th:only-of-type {\n",
       "        vertical-align: middle;\n",
       "    }\n",
       "\n",
       "    .dataframe tbody tr th {\n",
       "        vertical-align: top;\n",
       "    }\n",
       "\n",
       "    .dataframe thead th {\n",
       "        text-align: right;\n",
       "    }\n",
       "</style>\n",
       "<table border=\"1\" class=\"dataframe\">\n",
       "  <thead>\n",
       "    <tr style=\"text-align: right;\">\n",
       "      <th></th>\n",
       "      <th>product_id</th>\n",
       "      <th>user_id</th>\n",
       "      <th>NumOfEventsInJourney</th>\n",
       "      <th>NumSessions</th>\n",
       "      <th>interactionTime</th>\n",
       "      <th>maxPrice</th>\n",
       "      <th>minPrice</th>\n",
       "      <th>NumCart</th>\n",
       "      <th>NumView</th>\n",
       "      <th>NumRemove</th>\n",
       "      <th>...</th>\n",
       "      <th>Afternoon</th>\n",
       "      <th>Dawn</th>\n",
       "      <th>EarlyMorning</th>\n",
       "      <th>Evening</th>\n",
       "      <th>Morning</th>\n",
       "      <th>Night</th>\n",
       "      <th>Purchased?</th>\n",
       "      <th>Noon</th>\n",
       "      <th>Category</th>\n",
       "      <th>pred_labels</th>\n",
       "    </tr>\n",
       "  </thead>\n",
       "  <tbody>\n",
       "    <tr>\n",
       "      <th>mean</th>\n",
       "      <td>5.521647e+06</td>\n",
       "      <td>5.368384e+08</td>\n",
       "      <td>1.530937</td>\n",
       "      <td>1.185967</td>\n",
       "      <td>97154.013607</td>\n",
       "      <td>38.619212</td>\n",
       "      <td>38.586438</td>\n",
       "      <td>0.176096</td>\n",
       "      <td>1.207876</td>\n",
       "      <td>0.110317</td>\n",
       "      <td>...</td>\n",
       "      <td>0.222742</td>\n",
       "      <td>0.069241</td>\n",
       "      <td>0.203134</td>\n",
       "      <td>0.207884</td>\n",
       "      <td>0.157958</td>\n",
       "      <td>0.060774</td>\n",
       "      <td>0.370000</td>\n",
       "      <td>0.078268</td>\n",
       "      <td>1.058039</td>\n",
       "      <td>4.0</td>\n",
       "    </tr>\n",
       "    <tr>\n",
       "      <th>median</th>\n",
       "      <td>5.863946e+06</td>\n",
       "      <td>5.451081e+08</td>\n",
       "      <td>1.366667</td>\n",
       "      <td>1.000000</td>\n",
       "      <td>107.500000</td>\n",
       "      <td>36.159865</td>\n",
       "      <td>36.159865</td>\n",
       "      <td>0.000000</td>\n",
       "      <td>1.000000</td>\n",
       "      <td>0.000000</td>\n",
       "      <td>...</td>\n",
       "      <td>0.183014</td>\n",
       "      <td>0.000000</td>\n",
       "      <td>0.137335</td>\n",
       "      <td>0.159605</td>\n",
       "      <td>0.000000</td>\n",
       "      <td>0.000000</td>\n",
       "      <td>0.000000</td>\n",
       "      <td>0.000000</td>\n",
       "      <td>1.000000</td>\n",
       "      <td>4.0</td>\n",
       "    </tr>\n",
       "    <tr>\n",
       "      <th>mode</th>\n",
       "      <td>1.330839e+06</td>\n",
       "      <td>5.426225e+07</td>\n",
       "      <td>0.667190</td>\n",
       "      <td>0.334002</td>\n",
       "      <td>235015.572263</td>\n",
       "      <td>12.967155</td>\n",
       "      <td>12.953051</td>\n",
       "      <td>0.259639</td>\n",
       "      <td>0.483728</td>\n",
       "      <td>0.250209</td>\n",
       "      <td>...</td>\n",
       "      <td>0.256813</td>\n",
       "      <td>0.162255</td>\n",
       "      <td>0.255966</td>\n",
       "      <td>0.246473</td>\n",
       "      <td>0.233876</td>\n",
       "      <td>0.152885</td>\n",
       "      <td>0.484016</td>\n",
       "      <td>0.168429</td>\n",
       "      <td>0.203293</td>\n",
       "      <td>0.0</td>\n",
       "    </tr>\n",
       "  </tbody>\n",
       "</table>\n",
       "<p>3 rows × 38 columns</p>\n",
       "</div>"
      ],
      "text/plain": [
       "          product_id       user_id  NumOfEventsInJourney  NumSessions  \\\n",
       "mean    5.521647e+06  5.368384e+08              1.530937     1.185967   \n",
       "median  5.863946e+06  5.451081e+08              1.366667     1.000000   \n",
       "mode    1.330839e+06  5.426225e+07              0.667190     0.334002   \n",
       "\n",
       "        interactionTime   maxPrice   minPrice   NumCart   NumView  NumRemove  \\\n",
       "mean       97154.013607  38.619212  38.586438  0.176096  1.207876   0.110317   \n",
       "median       107.500000  36.159865  36.159865  0.000000  1.000000   0.000000   \n",
       "mode      235015.572263  12.967155  12.953051  0.259639  0.483728   0.250209   \n",
       "\n",
       "        ...  Afternoon      Dawn  EarlyMorning   Evening   Morning     Night  \\\n",
       "mean    ...   0.222742  0.069241      0.203134  0.207884  0.157958  0.060774   \n",
       "median  ...   0.183014  0.000000      0.137335  0.159605  0.000000  0.000000   \n",
       "mode    ...   0.256813  0.162255      0.255966  0.246473  0.233876  0.152885   \n",
       "\n",
       "        Purchased?      Noon  Category  pred_labels  \n",
       "mean      0.370000  0.078268  1.058039          4.0  \n",
       "median    0.000000  0.000000  1.000000          4.0  \n",
       "mode      0.484016  0.168429  0.203293          0.0  \n",
       "\n",
       "[3 rows x 38 columns]"
      ]
     },
     "metadata": {},
     "output_type": "display_data"
    },
    {
     "name": "stdout",
     "output_type": "stream",
     "text": [
      "\n",
      "Cluster 5\n"
     ]
    },
    {
     "data": {
      "text/html": [
       "<div>\n",
       "<style scoped>\n",
       "    .dataframe tbody tr th:only-of-type {\n",
       "        vertical-align: middle;\n",
       "    }\n",
       "\n",
       "    .dataframe tbody tr th {\n",
       "        vertical-align: top;\n",
       "    }\n",
       "\n",
       "    .dataframe thead th {\n",
       "        text-align: right;\n",
       "    }\n",
       "</style>\n",
       "<table border=\"1\" class=\"dataframe\">\n",
       "  <thead>\n",
       "    <tr style=\"text-align: right;\">\n",
       "      <th></th>\n",
       "      <th>product_id</th>\n",
       "      <th>user_id</th>\n",
       "      <th>NumOfEventsInJourney</th>\n",
       "      <th>NumSessions</th>\n",
       "      <th>interactionTime</th>\n",
       "      <th>maxPrice</th>\n",
       "      <th>minPrice</th>\n",
       "      <th>NumCart</th>\n",
       "      <th>NumView</th>\n",
       "      <th>NumRemove</th>\n",
       "      <th>...</th>\n",
       "      <th>Afternoon</th>\n",
       "      <th>Dawn</th>\n",
       "      <th>EarlyMorning</th>\n",
       "      <th>Evening</th>\n",
       "      <th>Morning</th>\n",
       "      <th>Night</th>\n",
       "      <th>Purchased?</th>\n",
       "      <th>Noon</th>\n",
       "      <th>Category</th>\n",
       "      <th>pred_labels</th>\n",
       "    </tr>\n",
       "  </thead>\n",
       "  <tbody>\n",
       "    <tr>\n",
       "      <th>mean</th>\n",
       "      <td>5.885009e+06</td>\n",
       "      <td>5.150258e+08</td>\n",
       "      <td>23.833333</td>\n",
       "      <td>21.666667</td>\n",
       "      <td>3.093390e+06</td>\n",
       "      <td>2.593333</td>\n",
       "      <td>2.433333</td>\n",
       "      <td>0.500000</td>\n",
       "      <td>22.666667</td>\n",
       "      <td>0.666667</td>\n",
       "      <td>...</td>\n",
       "      <td>0.0</td>\n",
       "      <td>0.0</td>\n",
       "      <td>0.0</td>\n",
       "      <td>0.833333</td>\n",
       "      <td>0.0</td>\n",
       "      <td>0.166667</td>\n",
       "      <td>0.333333</td>\n",
       "      <td>0.0</td>\n",
       "      <td>3.5</td>\n",
       "      <td>5.0</td>\n",
       "    </tr>\n",
       "    <tr>\n",
       "      <th>median</th>\n",
       "      <td>5.903938e+06</td>\n",
       "      <td>5.265347e+08</td>\n",
       "      <td>24.000000</td>\n",
       "      <td>23.000000</td>\n",
       "      <td>2.997562e+06</td>\n",
       "      <td>1.590000</td>\n",
       "      <td>1.350000</td>\n",
       "      <td>0.000000</td>\n",
       "      <td>24.000000</td>\n",
       "      <td>0.000000</td>\n",
       "      <td>...</td>\n",
       "      <td>0.0</td>\n",
       "      <td>0.0</td>\n",
       "      <td>0.0</td>\n",
       "      <td>1.000000</td>\n",
       "      <td>0.0</td>\n",
       "      <td>0.000000</td>\n",
       "      <td>0.000000</td>\n",
       "      <td>0.0</td>\n",
       "      <td>3.5</td>\n",
       "      <td>5.0</td>\n",
       "    </tr>\n",
       "    <tr>\n",
       "      <th>mode</th>\n",
       "      <td>3.311736e+04</td>\n",
       "      <td>2.035686e+07</td>\n",
       "      <td>4.252450</td>\n",
       "      <td>7.094599</td>\n",
       "      <td>2.073143e+06</td>\n",
       "      <td>1.737824</td>\n",
       "      <td>1.876388</td>\n",
       "      <td>0.866025</td>\n",
       "      <td>6.110101</td>\n",
       "      <td>1.154701</td>\n",
       "      <td>...</td>\n",
       "      <td>0.0</td>\n",
       "      <td>0.0</td>\n",
       "      <td>0.0</td>\n",
       "      <td>0.288675</td>\n",
       "      <td>0.0</td>\n",
       "      <td>0.288675</td>\n",
       "      <td>0.577350</td>\n",
       "      <td>0.0</td>\n",
       "      <td>0.5</td>\n",
       "      <td>0.0</td>\n",
       "    </tr>\n",
       "  </tbody>\n",
       "</table>\n",
       "<p>3 rows × 38 columns</p>\n",
       "</div>"
      ],
      "text/plain": [
       "          product_id       user_id  NumOfEventsInJourney  NumSessions  \\\n",
       "mean    5.885009e+06  5.150258e+08             23.833333    21.666667   \n",
       "median  5.903938e+06  5.265347e+08             24.000000    23.000000   \n",
       "mode    3.311736e+04  2.035686e+07              4.252450     7.094599   \n",
       "\n",
       "        interactionTime  maxPrice  minPrice   NumCart    NumView  NumRemove  \\\n",
       "mean       3.093390e+06  2.593333  2.433333  0.500000  22.666667   0.666667   \n",
       "median     2.997562e+06  1.590000  1.350000  0.000000  24.000000   0.000000   \n",
       "mode       2.073143e+06  1.737824  1.876388  0.866025   6.110101   1.154701   \n",
       "\n",
       "        ...  Afternoon  Dawn  EarlyMorning   Evening  Morning     Night  \\\n",
       "mean    ...        0.0   0.0           0.0  0.833333      0.0  0.166667   \n",
       "median  ...        0.0   0.0           0.0  1.000000      0.0  0.000000   \n",
       "mode    ...        0.0   0.0           0.0  0.288675      0.0  0.288675   \n",
       "\n",
       "        Purchased?  Noon  Category  pred_labels  \n",
       "mean      0.333333   0.0       3.5          5.0  \n",
       "median    0.000000   0.0       3.5          5.0  \n",
       "mode      0.577350   0.0       0.5          0.0  \n",
       "\n",
       "[3 rows x 38 columns]"
      ]
     },
     "metadata": {},
     "output_type": "display_data"
    },
    {
     "name": "stdout",
     "output_type": "stream",
     "text": [
      "\n",
      "Cluster 6\n"
     ]
    },
    {
     "data": {
      "text/html": [
       "<div>\n",
       "<style scoped>\n",
       "    .dataframe tbody tr th:only-of-type {\n",
       "        vertical-align: middle;\n",
       "    }\n",
       "\n",
       "    .dataframe tbody tr th {\n",
       "        vertical-align: top;\n",
       "    }\n",
       "\n",
       "    .dataframe thead th {\n",
       "        text-align: right;\n",
       "    }\n",
       "</style>\n",
       "<table border=\"1\" class=\"dataframe\">\n",
       "  <thead>\n",
       "    <tr style=\"text-align: right;\">\n",
       "      <th></th>\n",
       "      <th>product_id</th>\n",
       "      <th>user_id</th>\n",
       "      <th>NumOfEventsInJourney</th>\n",
       "      <th>NumSessions</th>\n",
       "      <th>interactionTime</th>\n",
       "      <th>maxPrice</th>\n",
       "      <th>minPrice</th>\n",
       "      <th>NumCart</th>\n",
       "      <th>NumView</th>\n",
       "      <th>NumRemove</th>\n",
       "      <th>...</th>\n",
       "      <th>Afternoon</th>\n",
       "      <th>Dawn</th>\n",
       "      <th>EarlyMorning</th>\n",
       "      <th>Evening</th>\n",
       "      <th>Morning</th>\n",
       "      <th>Night</th>\n",
       "      <th>Purchased?</th>\n",
       "      <th>Noon</th>\n",
       "      <th>Category</th>\n",
       "      <th>pred_labels</th>\n",
       "    </tr>\n",
       "  </thead>\n",
       "  <tbody>\n",
       "    <tr>\n",
       "      <th>mean</th>\n",
       "      <td>5.554545e+06</td>\n",
       "      <td>5.117215e+08</td>\n",
       "      <td>1.652676</td>\n",
       "      <td>1.254297</td>\n",
       "      <td>119588.630015</td>\n",
       "      <td>5.392233</td>\n",
       "      <td>5.368818</td>\n",
       "      <td>0.380309</td>\n",
       "      <td>0.883674</td>\n",
       "      <td>0.295689</td>\n",
       "      <td>...</td>\n",
       "      <td>0.190665</td>\n",
       "      <td>0.054085</td>\n",
       "      <td>0.125354</td>\n",
       "      <td>0.287791</td>\n",
       "      <td>0.179518</td>\n",
       "      <td>0.102108</td>\n",
       "      <td>0.185230</td>\n",
       "      <td>0.060478</td>\n",
       "      <td>1.128006</td>\n",
       "      <td>6.0</td>\n",
       "    </tr>\n",
       "    <tr>\n",
       "      <th>median</th>\n",
       "      <td>5.826937e+06</td>\n",
       "      <td>5.281607e+08</td>\n",
       "      <td>1.500000</td>\n",
       "      <td>1.000000</td>\n",
       "      <td>171.500000</td>\n",
       "      <td>4.325000</td>\n",
       "      <td>4.306667</td>\n",
       "      <td>0.333333</td>\n",
       "      <td>1.000000</td>\n",
       "      <td>0.000000</td>\n",
       "      <td>...</td>\n",
       "      <td>0.000000</td>\n",
       "      <td>0.000000</td>\n",
       "      <td>0.000000</td>\n",
       "      <td>0.166667</td>\n",
       "      <td>0.000000</td>\n",
       "      <td>0.000000</td>\n",
       "      <td>0.000000</td>\n",
       "      <td>0.000000</td>\n",
       "      <td>1.000000</td>\n",
       "      <td>6.0</td>\n",
       "    </tr>\n",
       "    <tr>\n",
       "      <th>mode</th>\n",
       "      <td>1.199919e+06</td>\n",
       "      <td>6.704538e+07</td>\n",
       "      <td>0.730892</td>\n",
       "      <td>0.410713</td>\n",
       "      <td>311486.998971</td>\n",
       "      <td>4.403644</td>\n",
       "      <td>4.406047</td>\n",
       "      <td>0.419900</td>\n",
       "      <td>0.532899</td>\n",
       "      <td>0.461424</td>\n",
       "      <td>...</td>\n",
       "      <td>0.294623</td>\n",
       "      <td>0.170728</td>\n",
       "      <td>0.245680</td>\n",
       "      <td>0.348661</td>\n",
       "      <td>0.297698</td>\n",
       "      <td>0.233747</td>\n",
       "      <td>0.388719</td>\n",
       "      <td>0.174221</td>\n",
       "      <td>0.444703</td>\n",
       "      <td>0.0</td>\n",
       "    </tr>\n",
       "  </tbody>\n",
       "</table>\n",
       "<p>3 rows × 38 columns</p>\n",
       "</div>"
      ],
      "text/plain": [
       "          product_id       user_id  NumOfEventsInJourney  NumSessions  \\\n",
       "mean    5.554545e+06  5.117215e+08              1.652676     1.254297   \n",
       "median  5.826937e+06  5.281607e+08              1.500000     1.000000   \n",
       "mode    1.199919e+06  6.704538e+07              0.730892     0.410713   \n",
       "\n",
       "        interactionTime  maxPrice  minPrice   NumCart   NumView  NumRemove  \\\n",
       "mean      119588.630015  5.392233  5.368818  0.380309  0.883674   0.295689   \n",
       "median       171.500000  4.325000  4.306667  0.333333  1.000000   0.000000   \n",
       "mode      311486.998971  4.403644  4.406047  0.419900  0.532899   0.461424   \n",
       "\n",
       "        ...  Afternoon      Dawn  EarlyMorning   Evening   Morning     Night  \\\n",
       "mean    ...   0.190665  0.054085      0.125354  0.287791  0.179518  0.102108   \n",
       "median  ...   0.000000  0.000000      0.000000  0.166667  0.000000  0.000000   \n",
       "mode    ...   0.294623  0.170728      0.245680  0.348661  0.297698  0.233747   \n",
       "\n",
       "        Purchased?      Noon  Category  pred_labels  \n",
       "mean      0.185230  0.060478  1.128006          6.0  \n",
       "median    0.000000  0.000000  1.000000          6.0  \n",
       "mode      0.388719  0.174221  0.444703          0.0  \n",
       "\n",
       "[3 rows x 38 columns]"
      ]
     },
     "metadata": {},
     "output_type": "display_data"
    },
    {
     "name": "stdout",
     "output_type": "stream",
     "text": [
      "\n",
      "Cluster 7\n"
     ]
    },
    {
     "data": {
      "text/html": [
       "<div>\n",
       "<style scoped>\n",
       "    .dataframe tbody tr th:only-of-type {\n",
       "        vertical-align: middle;\n",
       "    }\n",
       "\n",
       "    .dataframe tbody tr th {\n",
       "        vertical-align: top;\n",
       "    }\n",
       "\n",
       "    .dataframe thead th {\n",
       "        text-align: right;\n",
       "    }\n",
       "</style>\n",
       "<table border=\"1\" class=\"dataframe\">\n",
       "  <thead>\n",
       "    <tr style=\"text-align: right;\">\n",
       "      <th></th>\n",
       "      <th>product_id</th>\n",
       "      <th>user_id</th>\n",
       "      <th>NumOfEventsInJourney</th>\n",
       "      <th>NumSessions</th>\n",
       "      <th>interactionTime</th>\n",
       "      <th>maxPrice</th>\n",
       "      <th>minPrice</th>\n",
       "      <th>NumCart</th>\n",
       "      <th>NumView</th>\n",
       "      <th>NumRemove</th>\n",
       "      <th>...</th>\n",
       "      <th>Afternoon</th>\n",
       "      <th>Dawn</th>\n",
       "      <th>EarlyMorning</th>\n",
       "      <th>Evening</th>\n",
       "      <th>Morning</th>\n",
       "      <th>Night</th>\n",
       "      <th>Purchased?</th>\n",
       "      <th>Noon</th>\n",
       "      <th>Category</th>\n",
       "      <th>pred_labels</th>\n",
       "    </tr>\n",
       "  </thead>\n",
       "  <tbody>\n",
       "    <tr>\n",
       "      <th>mean</th>\n",
       "      <td>5.387167e+06</td>\n",
       "      <td>5.417551e+08</td>\n",
       "      <td>1.429361</td>\n",
       "      <td>1.192694</td>\n",
       "      <td>100929.230924</td>\n",
       "      <td>115.142678</td>\n",
       "      <td>115.075413</td>\n",
       "      <td>0.095532</td>\n",
       "      <td>1.268522</td>\n",
       "      <td>0.037596</td>\n",
       "      <td>...</td>\n",
       "      <td>0.195462</td>\n",
       "      <td>0.095786</td>\n",
       "      <td>0.182948</td>\n",
       "      <td>0.186239</td>\n",
       "      <td>0.163108</td>\n",
       "      <td>0.078102</td>\n",
       "      <td>0.666667</td>\n",
       "      <td>0.098355</td>\n",
       "      <td>1.057200</td>\n",
       "      <td>7.0</td>\n",
       "    </tr>\n",
       "    <tr>\n",
       "      <th>median</th>\n",
       "      <td>5.813466e+06</td>\n",
       "      <td>5.453772e+08</td>\n",
       "      <td>1.272727</td>\n",
       "      <td>1.166667</td>\n",
       "      <td>29256.000000</td>\n",
       "      <td>95.220000</td>\n",
       "      <td>95.220000</td>\n",
       "      <td>0.000000</td>\n",
       "      <td>1.222222</td>\n",
       "      <td>0.000000</td>\n",
       "      <td>...</td>\n",
       "      <td>0.175439</td>\n",
       "      <td>0.054299</td>\n",
       "      <td>0.181818</td>\n",
       "      <td>0.192308</td>\n",
       "      <td>0.173913</td>\n",
       "      <td>0.061404</td>\n",
       "      <td>1.000000</td>\n",
       "      <td>0.067873</td>\n",
       "      <td>1.000000</td>\n",
       "      <td>7.0</td>\n",
       "    </tr>\n",
       "    <tr>\n",
       "      <th>mode</th>\n",
       "      <td>1.549314e+06</td>\n",
       "      <td>2.824273e+07</td>\n",
       "      <td>0.581024</td>\n",
       "      <td>0.189698</td>\n",
       "      <td>138967.170508</td>\n",
       "      <td>40.185819</td>\n",
       "      <td>40.192392</td>\n",
       "      <td>0.289029</td>\n",
       "      <td>0.212865</td>\n",
       "      <td>0.099740</td>\n",
       "      <td>...</td>\n",
       "      <td>0.151807</td>\n",
       "      <td>0.194521</td>\n",
       "      <td>0.170100</td>\n",
       "      <td>0.156276</td>\n",
       "      <td>0.141244</td>\n",
       "      <td>0.094158</td>\n",
       "      <td>0.480384</td>\n",
       "      <td>0.195835</td>\n",
       "      <td>0.103033</td>\n",
       "      <td>0.0</td>\n",
       "    </tr>\n",
       "  </tbody>\n",
       "</table>\n",
       "<p>3 rows × 38 columns</p>\n",
       "</div>"
      ],
      "text/plain": [
       "          product_id       user_id  NumOfEventsInJourney  NumSessions  \\\n",
       "mean    5.387167e+06  5.417551e+08              1.429361     1.192694   \n",
       "median  5.813466e+06  5.453772e+08              1.272727     1.166667   \n",
       "mode    1.549314e+06  2.824273e+07              0.581024     0.189698   \n",
       "\n",
       "        interactionTime    maxPrice    minPrice   NumCart   NumView  \\\n",
       "mean      100929.230924  115.142678  115.075413  0.095532  1.268522   \n",
       "median     29256.000000   95.220000   95.220000  0.000000  1.222222   \n",
       "mode      138967.170508   40.185819   40.192392  0.289029  0.212865   \n",
       "\n",
       "        NumRemove  ...  Afternoon      Dawn  EarlyMorning   Evening   Morning  \\\n",
       "mean     0.037596  ...   0.195462  0.095786      0.182948  0.186239  0.163108   \n",
       "median   0.000000  ...   0.175439  0.054299      0.181818  0.192308  0.173913   \n",
       "mode     0.099740  ...   0.151807  0.194521      0.170100  0.156276  0.141244   \n",
       "\n",
       "           Night  Purchased?      Noon  Category  pred_labels  \n",
       "mean    0.078102    0.666667  0.098355  1.057200          7.0  \n",
       "median  0.061404    1.000000  0.067873  1.000000          7.0  \n",
       "mode    0.094158    0.480384  0.195835  0.103033          0.0  \n",
       "\n",
       "[3 rows x 38 columns]"
      ]
     },
     "metadata": {},
     "output_type": "display_data"
    },
    {
     "name": "stdout",
     "output_type": "stream",
     "text": [
      "\n",
      "Cluster 8\n"
     ]
    },
    {
     "data": {
      "text/html": [
       "<div>\n",
       "<style scoped>\n",
       "    .dataframe tbody tr th:only-of-type {\n",
       "        vertical-align: middle;\n",
       "    }\n",
       "\n",
       "    .dataframe tbody tr th {\n",
       "        vertical-align: top;\n",
       "    }\n",
       "\n",
       "    .dataframe thead th {\n",
       "        text-align: right;\n",
       "    }\n",
       "</style>\n",
       "<table border=\"1\" class=\"dataframe\">\n",
       "  <thead>\n",
       "    <tr style=\"text-align: right;\">\n",
       "      <th></th>\n",
       "      <th>product_id</th>\n",
       "      <th>user_id</th>\n",
       "      <th>NumOfEventsInJourney</th>\n",
       "      <th>NumSessions</th>\n",
       "      <th>interactionTime</th>\n",
       "      <th>maxPrice</th>\n",
       "      <th>minPrice</th>\n",
       "      <th>NumCart</th>\n",
       "      <th>NumView</th>\n",
       "      <th>NumRemove</th>\n",
       "      <th>...</th>\n",
       "      <th>Afternoon</th>\n",
       "      <th>Dawn</th>\n",
       "      <th>EarlyMorning</th>\n",
       "      <th>Evening</th>\n",
       "      <th>Morning</th>\n",
       "      <th>Night</th>\n",
       "      <th>Purchased?</th>\n",
       "      <th>Noon</th>\n",
       "      <th>Category</th>\n",
       "      <th>pred_labels</th>\n",
       "    </tr>\n",
       "  </thead>\n",
       "  <tbody>\n",
       "    <tr>\n",
       "      <th>mean</th>\n",
       "      <td>5.580308e+06</td>\n",
       "      <td>5.165094e+08</td>\n",
       "      <td>1.928418</td>\n",
       "      <td>1.237397</td>\n",
       "      <td>119782.312362</td>\n",
       "      <td>6.040945</td>\n",
       "      <td>6.024698</td>\n",
       "      <td>0.640463</td>\n",
       "      <td>0.765142</td>\n",
       "      <td>0.422847</td>\n",
       "      <td>...</td>\n",
       "      <td>0.214657</td>\n",
       "      <td>0.082548</td>\n",
       "      <td>0.212742</td>\n",
       "      <td>0.181306</td>\n",
       "      <td>0.177858</td>\n",
       "      <td>0.079539</td>\n",
       "      <td>0.149780</td>\n",
       "      <td>0.051349</td>\n",
       "      <td>1.087297</td>\n",
       "      <td>8.0</td>\n",
       "    </tr>\n",
       "    <tr>\n",
       "      <th>median</th>\n",
       "      <td>5.824048e+06</td>\n",
       "      <td>5.350564e+08</td>\n",
       "      <td>1.833333</td>\n",
       "      <td>1.000000</td>\n",
       "      <td>123.250000</td>\n",
       "      <td>4.290000</td>\n",
       "      <td>4.290000</td>\n",
       "      <td>0.500000</td>\n",
       "      <td>1.000000</td>\n",
       "      <td>0.000000</td>\n",
       "      <td>...</td>\n",
       "      <td>0.000000</td>\n",
       "      <td>0.000000</td>\n",
       "      <td>0.000000</td>\n",
       "      <td>0.000000</td>\n",
       "      <td>0.000000</td>\n",
       "      <td>0.000000</td>\n",
       "      <td>0.000000</td>\n",
       "      <td>0.000000</td>\n",
       "      <td>1.000000</td>\n",
       "      <td>8.0</td>\n",
       "    </tr>\n",
       "    <tr>\n",
       "      <th>mode</th>\n",
       "      <td>1.131314e+06</td>\n",
       "      <td>6.523085e+07</td>\n",
       "      <td>0.987949</td>\n",
       "      <td>0.401553</td>\n",
       "      <td>358541.081982</td>\n",
       "      <td>5.356199</td>\n",
       "      <td>5.348994</td>\n",
       "      <td>0.729740</td>\n",
       "      <td>0.551279</td>\n",
       "      <td>0.626321</td>\n",
       "      <td>...</td>\n",
       "      <td>0.318687</td>\n",
       "      <td>0.224325</td>\n",
       "      <td>0.321687</td>\n",
       "      <td>0.305073</td>\n",
       "      <td>0.297122</td>\n",
       "      <td>0.216547</td>\n",
       "      <td>0.357052</td>\n",
       "      <td>0.166916</td>\n",
       "      <td>0.389213</td>\n",
       "      <td>0.0</td>\n",
       "    </tr>\n",
       "  </tbody>\n",
       "</table>\n",
       "<p>3 rows × 38 columns</p>\n",
       "</div>"
      ],
      "text/plain": [
       "          product_id       user_id  NumOfEventsInJourney  NumSessions  \\\n",
       "mean    5.580308e+06  5.165094e+08              1.928418     1.237397   \n",
       "median  5.824048e+06  5.350564e+08              1.833333     1.000000   \n",
       "mode    1.131314e+06  6.523085e+07              0.987949     0.401553   \n",
       "\n",
       "        interactionTime  maxPrice  minPrice   NumCart   NumView  NumRemove  \\\n",
       "mean      119782.312362  6.040945  6.024698  0.640463  0.765142   0.422847   \n",
       "median       123.250000  4.290000  4.290000  0.500000  1.000000   0.000000   \n",
       "mode      358541.081982  5.356199  5.348994  0.729740  0.551279   0.626321   \n",
       "\n",
       "        ...  Afternoon      Dawn  EarlyMorning   Evening   Morning     Night  \\\n",
       "mean    ...   0.214657  0.082548      0.212742  0.181306  0.177858  0.079539   \n",
       "median  ...   0.000000  0.000000      0.000000  0.000000  0.000000  0.000000   \n",
       "mode    ...   0.318687  0.224325      0.321687  0.305073  0.297122  0.216547   \n",
       "\n",
       "        Purchased?      Noon  Category  pred_labels  \n",
       "mean      0.149780  0.051349  1.087297          8.0  \n",
       "median    0.000000  0.000000  1.000000          8.0  \n",
       "mode      0.357052  0.166916  0.389213          0.0  \n",
       "\n",
       "[3 rows x 38 columns]"
      ]
     },
     "metadata": {},
     "output_type": "display_data"
    },
    {
     "name": "stdout",
     "output_type": "stream",
     "text": [
      "\n",
      "Cluster 9\n"
     ]
    },
    {
     "data": {
      "text/html": [
       "<div>\n",
       "<style scoped>\n",
       "    .dataframe tbody tr th:only-of-type {\n",
       "        vertical-align: middle;\n",
       "    }\n",
       "\n",
       "    .dataframe tbody tr th {\n",
       "        vertical-align: top;\n",
       "    }\n",
       "\n",
       "    .dataframe thead th {\n",
       "        text-align: right;\n",
       "    }\n",
       "</style>\n",
       "<table border=\"1\" class=\"dataframe\">\n",
       "  <thead>\n",
       "    <tr style=\"text-align: right;\">\n",
       "      <th></th>\n",
       "      <th>product_id</th>\n",
       "      <th>user_id</th>\n",
       "      <th>NumOfEventsInJourney</th>\n",
       "      <th>NumSessions</th>\n",
       "      <th>interactionTime</th>\n",
       "      <th>maxPrice</th>\n",
       "      <th>minPrice</th>\n",
       "      <th>NumCart</th>\n",
       "      <th>NumView</th>\n",
       "      <th>NumRemove</th>\n",
       "      <th>...</th>\n",
       "      <th>Afternoon</th>\n",
       "      <th>Dawn</th>\n",
       "      <th>EarlyMorning</th>\n",
       "      <th>Evening</th>\n",
       "      <th>Morning</th>\n",
       "      <th>Night</th>\n",
       "      <th>Purchased?</th>\n",
       "      <th>Noon</th>\n",
       "      <th>Category</th>\n",
       "      <th>pred_labels</th>\n",
       "    </tr>\n",
       "  </thead>\n",
       "  <tbody>\n",
       "    <tr>\n",
       "      <th>mean</th>\n",
       "      <td>5.483155e+06</td>\n",
       "      <td>5.244100e+08</td>\n",
       "      <td>1.970674</td>\n",
       "      <td>1.333729</td>\n",
       "      <td>275211.575504</td>\n",
       "      <td>4.968482</td>\n",
       "      <td>4.950962</td>\n",
       "      <td>0.575719</td>\n",
       "      <td>0.841250</td>\n",
       "      <td>0.428918</td>\n",
       "      <td>...</td>\n",
       "      <td>0.211422</td>\n",
       "      <td>0.059779</td>\n",
       "      <td>0.162750</td>\n",
       "      <td>0.252192</td>\n",
       "      <td>0.172161</td>\n",
       "      <td>0.079920</td>\n",
       "      <td>0.631665</td>\n",
       "      <td>0.061777</td>\n",
       "      <td>1.153961</td>\n",
       "      <td>9.0</td>\n",
       "    </tr>\n",
       "    <tr>\n",
       "      <th>median</th>\n",
       "      <td>5.815645e+06</td>\n",
       "      <td>5.292423e+08</td>\n",
       "      <td>2.000000</td>\n",
       "      <td>1.322479</td>\n",
       "      <td>98454.367857</td>\n",
       "      <td>3.970000</td>\n",
       "      <td>3.970000</td>\n",
       "      <td>0.555556</td>\n",
       "      <td>0.833333</td>\n",
       "      <td>0.383797</td>\n",
       "      <td>...</td>\n",
       "      <td>0.200000</td>\n",
       "      <td>0.000000</td>\n",
       "      <td>0.142857</td>\n",
       "      <td>0.250000</td>\n",
       "      <td>0.158493</td>\n",
       "      <td>0.000000</td>\n",
       "      <td>1.000000</td>\n",
       "      <td>0.000000</td>\n",
       "      <td>1.000000</td>\n",
       "      <td>9.0</td>\n",
       "    </tr>\n",
       "    <tr>\n",
       "      <th>mode</th>\n",
       "      <td>1.319657e+06</td>\n",
       "      <td>3.971072e+07</td>\n",
       "      <td>0.610066</td>\n",
       "      <td>0.278302</td>\n",
       "      <td>443589.079710</td>\n",
       "      <td>3.879796</td>\n",
       "      <td>3.867254</td>\n",
       "      <td>0.340321</td>\n",
       "      <td>0.421765</td>\n",
       "      <td>0.371089</td>\n",
       "      <td>...</td>\n",
       "      <td>0.182193</td>\n",
       "      <td>0.103037</td>\n",
       "      <td>0.165601</td>\n",
       "      <td>0.193068</td>\n",
       "      <td>0.164201</td>\n",
       "      <td>0.114482</td>\n",
       "      <td>0.482484</td>\n",
       "      <td>0.104550</td>\n",
       "      <td>0.297404</td>\n",
       "      <td>0.0</td>\n",
       "    </tr>\n",
       "  </tbody>\n",
       "</table>\n",
       "<p>3 rows × 38 columns</p>\n",
       "</div>"
      ],
      "text/plain": [
       "          product_id       user_id  NumOfEventsInJourney  NumSessions  \\\n",
       "mean    5.483155e+06  5.244100e+08              1.970674     1.333729   \n",
       "median  5.815645e+06  5.292423e+08              2.000000     1.322479   \n",
       "mode    1.319657e+06  3.971072e+07              0.610066     0.278302   \n",
       "\n",
       "        interactionTime  maxPrice  minPrice   NumCart   NumView  NumRemove  \\\n",
       "mean      275211.575504  4.968482  4.950962  0.575719  0.841250   0.428918   \n",
       "median     98454.367857  3.970000  3.970000  0.555556  0.833333   0.383797   \n",
       "mode      443589.079710  3.879796  3.867254  0.340321  0.421765   0.371089   \n",
       "\n",
       "        ...  Afternoon      Dawn  EarlyMorning   Evening   Morning     Night  \\\n",
       "mean    ...   0.211422  0.059779      0.162750  0.252192  0.172161  0.079920   \n",
       "median  ...   0.200000  0.000000      0.142857  0.250000  0.158493  0.000000   \n",
       "mode    ...   0.182193  0.103037      0.165601  0.193068  0.164201  0.114482   \n",
       "\n",
       "        Purchased?      Noon  Category  pred_labels  \n",
       "mean      0.631665  0.061777  1.153961          9.0  \n",
       "median    1.000000  0.000000  1.000000          9.0  \n",
       "mode      0.482484  0.104550  0.297404          0.0  \n",
       "\n",
       "[3 rows x 38 columns]"
      ]
     },
     "metadata": {},
     "output_type": "display_data"
    }
   ],
   "source": [
    "# YOUR CODE HERE\n",
    "for cluster_i in np.arange(10):\n",
    "    print(f'\\nCluster {cluster_i}')\n",
    "    display( pd.concat([\n",
    "    pd.DataFrame(df_past[df_past['pred_labels'] == cluster_i].mean() , columns=['mean']).T ,\n",
    "    pd.DataFrame(df_past[df_past['pred_labels'] == cluster_i].median() , columns=['median']).T ,\n",
    "    pd.DataFrame(df_past[df_past['pred_labels'] == cluster_i].std() , columns = ['mode'] ).T ]) )\n"
   ]
  },
  {
   "cell_type": "code",
   "execution_count": null,
   "id": "0e4f0aed",
   "metadata": {},
   "outputs": [],
   "source": [
    "cols = ['C1','C2','C3','C4','C5']\n",
    "df_reduced_scaled_x"
   ]
  },
  {
   "cell_type": "code",
   "execution_count": null,
   "id": "63c8ca54",
   "metadata": {},
   "outputs": [],
   "source": []
  },
  {
   "cell_type": "code",
   "execution_count": null,
   "id": "99104618",
   "metadata": {},
   "outputs": [],
   "source": []
  },
  {
   "cell_type": "markdown",
   "id": "045163e7",
   "metadata": {},
   "source": [
    "10. What are the assumptions for k-means? Judging by the cluster sizes, is k-means a good approach? \n",
    "\n",
    "    Scanning the list of [clustering algorithms](https://scikit-learn.org/stable/modules/clustering.html) implemented in scikit-learn, try at least one other algorithm, examine its assumptions, and intepret results."
   ]
  },
  {
   "cell_type": "markdown",
   "id": "33bd3042",
   "metadata": {},
   "source": [
    "    *YOUR ANSWER HERE*"
   ]
  },
  {
   "cell_type": "code",
   "execution_count": null,
   "id": "90bf70c7",
   "metadata": {},
   "outputs": [],
   "source": [
    "# YOUR CODE HERE"
   ]
  },
  {
   "cell_type": "markdown",
   "id": "f55c9ebd",
   "metadata": {},
   "source": [
    "11. Jot down recommendations or followup steps, detailing the reasons."
   ]
  },
  {
   "cell_type": "markdown",
   "id": "01a41aa0",
   "metadata": {},
   "source": [
    "    *YOUR ANSWER HERE*"
   ]
  },
  {
   "cell_type": "markdown",
   "id": "79f44672",
   "metadata": {},
   "source": [
    "## Task 3. To launch or not to launch?"
   ]
  },
  {
   "cell_type": "markdown",
   "id": "494e9fa9",
   "metadata": {},
   "source": [
    "In this task, we will work on a hypothetical application: cosmetics purchase prediction for new products with limited features. The intention here is to maximize **recall** so that no popular cosmetic is understocked. Overstocking is less of a concern since it will not cause disengagement in customers.\n",
    "\n",
    "The purchase status for each \"new\" product is known, but we only use the labels for benchmarking purpose. Instead, we use label spreading method to leverage a small amount of labeled data in combination with a larger amount of unlabeled data. "
   ]
  },
  {
   "cell_type": "markdown",
   "id": "e37a4854",
   "metadata": {},
   "source": [
    "1. Read in the data in `new.csv.gz` and save it as a `pd.DataFrame` named `new`. This is the test dataset.\n",
    "\n",
    "    Look at the shape of `new` and inspect the frist few rows."
   ]
  },
  {
   "cell_type": "code",
   "execution_count": null,
   "id": "57ed0232",
   "metadata": {},
   "outputs": [],
   "source": [
    "# YOUR CODE HERE"
   ]
  },
  {
   "cell_type": "code",
   "execution_count": null,
   "id": "8da7c797",
   "metadata": {},
   "outputs": [],
   "source": [
    "assert new.shape == (30091, 5)"
   ]
  },
  {
   "cell_type": "code",
   "execution_count": null,
   "id": "d53a5be6",
   "metadata": {},
   "outputs": [],
   "source": [
    "new.head()"
   ]
  },
  {
   "cell_type": "markdown",
   "id": "c7637957",
   "metadata": {},
   "source": [
    "2. How does the number of data points in the training set (`past`) compare to the number of datapoints in the test set (`new`)? \n",
    "\n",
    "    And how does the feature set in the training set compare to the feature set in the test set?"
   ]
  },
  {
   "cell_type": "markdown",
   "id": "1ee95e44",
   "metadata": {},
   "source": [
    "        *YOUR ANSWER HERE*"
   ]
  },
  {
   "cell_type": "markdown",
   "id": "223870d9",
   "metadata": {},
   "source": [
    "    *The number of datapoints in the training set is relatively small while the test set is quite large. The training set has more features than in the test set.*"
   ]
  },
  {
   "cell_type": "markdown",
   "id": "6b229240",
   "metadata": {},
   "source": [
    "3. Are there any product ids in both the training and test datasets? Hint: use `np.intersect1d` or set operations."
   ]
  },
  {
   "cell_type": "code",
   "execution_count": null,
   "id": "bec1dfec",
   "metadata": {},
   "outputs": [],
   "source": [
    "# YOUR CODE HERE"
   ]
  },
  {
   "cell_type": "markdown",
   "id": "06769b43",
   "metadata": {},
   "source": [
    "4. What percentage of data points resulted in a purchase in the test set?\n",
    "\n",
    "    In reality, we won't be able to calculate information that is not available to you. Here, we simply demonstrated that the distributions in target between `past` and `new` are similar. "
   ]
  },
  {
   "cell_type": "code",
   "execution_count": null,
   "id": "39aa4615",
   "metadata": {
    "scrolled": true
   },
   "outputs": [],
   "source": [
    "# YOUR CODE HERE # ~.344"
   ]
  },
  {
   "cell_type": "markdown",
   "id": "34ae7223",
   "metadata": {},
   "source": [
    "5. Create `ndarray`s: `X_train`, `y_train`, `X_test`, and `y_test` according to the following guidelines.\n",
    "\n",
    "    - The `Purchased?` column is the target.\n",
    "    - `X_train` and `X_test` should contain the same features\n",
    "    - `product_id` should not be a feature.\n",
    "\n",
    "    Double check that the shapes of the four arrays are what you expect."
   ]
  },
  {
   "cell_type": "code",
   "execution_count": null,
   "id": "5badbca1",
   "metadata": {},
   "outputs": [],
   "source": [
    "# YOUR CODE HERE"
   ]
  },
  {
   "cell_type": "code",
   "execution_count": null,
   "id": "d8dfb6ab",
   "metadata": {},
   "outputs": [],
   "source": [
    "assert X_train.shape[0] == y_train.shape[0] # 5000\n",
    "assert X_train.shape[1] == X_test.shape[1]  # 3\n",
    "\n",
    "assert type(X_train) == np.ndarray # make sure you import numpy as np at this point\n",
    "assert type(X_train).__module__ == type(y_train).__module__ == np.__name__  # alternative way"
   ]
  },
  {
   "cell_type": "markdown",
   "id": "25dd22e5",
   "metadata": {},
   "source": [
    "6. Let's fit a simple logistic regression on the training set (`X_train`, `y_train`) and report performance on the test set (`X_test`, `y_test`)."
   ]
  },
  {
   "cell_type": "code",
   "execution_count": null,
   "id": "33eea84d",
   "metadata": {},
   "outputs": [],
   "source": [
    "# YOUR CODE HERE"
   ]
  },
  {
   "cell_type": "markdown",
   "id": "f8a805e6",
   "metadata": {},
   "source": [
    "7. Re-assemble data for semi-supervised learning. \n",
    "    - Use the features from the test set along with the features from the training set. \n",
    "    - Only use the labels from the training set but none from the test set.  \n",
    "    \n",
    "    Since we're using a large number of sampled features, but only a small number of these samples have labels, this is **semi-supervised learning**."
   ]
  },
  {
   "cell_type": "markdown",
   "id": "a2aa8a29",
   "metadata": {},
   "source": [
    "Create a matrix `X` that has the rows from `X_train` concatenated with the rows from `X_test`. Check the shape of the matrix."
   ]
  },
  {
   "cell_type": "code",
   "execution_count": null,
   "id": "59d3585a",
   "metadata": {},
   "outputs": [],
   "source": [
    "# YOUR CODE HERE"
   ]
  },
  {
   "cell_type": "code",
   "execution_count": null,
   "id": "c67d4d7b",
   "metadata": {},
   "outputs": [],
   "source": [
    "assert X.shape == (35091, 3)"
   ]
  },
  {
   "cell_type": "markdown",
   "id": "b1dabc7c",
   "metadata": {},
   "source": [
    "Create the target array `y` by concatenating `y_train` with a vector of -1's, effectively creating a dummy label for the `X_test` rows in `X`. Check the shape of the array. It should have as many values as `X` has rows."
   ]
  },
  {
   "cell_type": "code",
   "execution_count": null,
   "id": "5eec0b7f",
   "metadata": {},
   "outputs": [],
   "source": [
    "# YOUR CODE HERE"
   ]
  },
  {
   "cell_type": "code",
   "execution_count": null,
   "id": "17318009",
   "metadata": {},
   "outputs": [],
   "source": [
    "assert X.shape[0] == y.shape[0]"
   ]
  },
  {
   "cell_type": "markdown",
   "id": "ee27528c",
   "metadata": {},
   "source": [
    "8. Semi-supervised learning. \n",
    "\n",
    "    Scikit-learn provides two label propagation models: [`LabelPropagation`](https://scikit-learn.org/stable/modules/generated/sklearn.semi_supervised.LabelPropagation.html) and [`LabelSpreading`](https://scikit-learn.org/stable/modules/generated/sklearn.semi_supervised.LabelSpreading.html). Both work by constructing a similarity graph over all items in the input dataset. `LabelSpreading` is similar to the basic Label Propagation algorithm, but it uses an affinity matrix based on the normalized graph Laplacian and soft clamping across the labels; thus more robust to noise. We will be using scikit-learn's `LabelSpreading` model with `kNN`.\n",
    "    \n",
    "    Train a `LabelSpreading` model. Set `kernel` to `knn` and `alpha` to 0.01."
   ]
  },
  {
   "cell_type": "code",
   "execution_count": null,
   "id": "9b4ee882",
   "metadata": {},
   "outputs": [],
   "source": [
    "# YOUR CODE HERE"
   ]
  },
  {
   "cell_type": "markdown",
   "id": "1095f805",
   "metadata": {},
   "source": [
    "9. Extract the predictions for the test data. \n",
    "\n",
    "    You can get the predictions from the `transduction_` attribute. Note that there is a value for every row in `X`, so select just the values that correspond to `X_test`."
   ]
  },
  {
   "cell_type": "code",
   "execution_count": null,
   "id": "ebc64f3a",
   "metadata": {},
   "outputs": [],
   "source": [
    "semi_sup_preds = # YOUR CODE HERE"
   ]
  },
  {
   "cell_type": "code",
   "execution_count": null,
   "id": "0c71554f",
   "metadata": {},
   "outputs": [],
   "source": [
    "assert semi_sup_preds.shape[0] == X_test.shape[0]"
   ]
  },
  {
   "cell_type": "markdown",
   "id": "e31745e2",
   "metadata": {},
   "source": [
    "10. Print the classification report"
   ]
  },
  {
   "cell_type": "code",
   "execution_count": null,
   "id": "79e8fb50",
   "metadata": {},
   "outputs": [],
   "source": [
    "print(classification_report(y_test, semi_sup_preds)) # make sure you properly import classification_report"
   ]
  },
  {
   "cell_type": "markdown",
   "id": "f87a48ab",
   "metadata": {},
   "source": [
    "Let's bring the performance from the supervised learning model down to see the comparison; discuss the areas of improvement and reasons for improvement."
   ]
  },
  {
   "cell_type": "code",
   "execution_count": null,
   "id": "e4f32dd6",
   "metadata": {},
   "outputs": [],
   "source": [
    "print(classification_report(y_test, y_pred))"
   ]
  },
  {
   "cell_type": "markdown",
   "id": "8f1ee798",
   "metadata": {},
   "source": [
    "    *YOUR ANSWER HERE*"
   ]
  },
  {
   "cell_type": "markdown",
   "id": "4fbc9772",
   "metadata": {},
   "source": [
    "11. Read [Small Data Can Play a Big Role in AI](https://hbr.org/2020/02/small-data-can-play-a-big-role-in-ai) and discuss with your teammate about AI tools for training AI with small data and their use cases. "
   ]
  },
  {
   "cell_type": "markdown",
   "id": "78da2390",
   "metadata": {},
   "source": [
    "## Acknowledgement & References"
   ]
  },
  {
   "cell_type": "markdown",
   "id": "67702bb8",
   "metadata": {},
   "source": [
    "- data was adapted from Kaggle: [eCommerce Events History in Cosmetics Shop](https://www.kaggle.com/mkechinov/ecommerce-events-history-in-cosmetics-shop)\n",
    "- function `visualize_silhouette` was adapted from [plot_kmeans_silhouette_analysis by scikit-learn](https://scikit-learn.org/stable/auto_examples/cluster/plot_kmeans_silhouette_analysis.html)\n",
    "- [Categorizing Online Shopping Behavior from Cosmetics to Electronics: An Analytical Framework](https://arxiv.org/pdf/2010.02503.pdf)\n",
    "- [OPAM: Online Purchasing-behavior Analysis using Machine learning](https://arxiv.org/pdf/2102.01625.pdf)"
   ]
  }
 ],
 "metadata": {
  "kernelspec": {
   "display_name": "sentiment_analysis",
   "language": "python",
   "name": "python3"
  },
  "language_info": {
   "codemirror_mode": {
    "name": "ipython",
    "version": 3
   },
   "file_extension": ".py",
   "mimetype": "text/x-python",
   "name": "python",
   "nbconvert_exporter": "python",
   "pygments_lexer": "ipython3",
   "version": "3.8.15"
  },
  "toc": {
   "base_numbering": 1,
   "nav_menu": {},
   "number_sections": true,
   "sideBar": true,
   "skip_h1_title": false,
   "title_cell": "Table of Contents",
   "title_sidebar": "Contents",
   "toc_cell": false,
   "toc_position": {},
   "toc_section_display": true,
   "toc_window_display": true
  },
  "vscode": {
   "interpreter": {
    "hash": "c164bb905a23d5759da3ebff9bf66d00c6b88f2297f9835f615490cebdfaec49"
   }
  }
 },
 "nbformat": 4,
 "nbformat_minor": 5
}
